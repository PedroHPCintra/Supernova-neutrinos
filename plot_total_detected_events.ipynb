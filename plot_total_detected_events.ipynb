{
 "cells": [
  {
   "cell_type": "code",
   "execution_count": 2,
   "id": "7a251d18-ec09-4bbd-b8d0-5ec8258c0ff7",
   "metadata": {
    "collapsed": true,
    "jupyter": {
     "outputs_hidden": true
    },
    "tags": []
   },
   "outputs": [
    {
     "name": "stderr",
     "output_type": "stream",
     "text": [
      "\n",
      "Bad key text.latex.preview in file /home/pedroc/anaconda3/lib/python3.7/site-packages/matplotlib/mpl-data/stylelib/_classic_test.mplstyle, line 123 ('text.latex.preview : False')\n",
      "You probably need to get an updated matplotlibrc file from\n",
      "https://github.com/matplotlib/matplotlib/blob/v3.5.1/matplotlibrc.template\n",
      "or from the matplotlib source distribution\n",
      "\n",
      "Bad key mathtext.fallback_to_cm in file /home/pedroc/anaconda3/lib/python3.7/site-packages/matplotlib/mpl-data/stylelib/_classic_test.mplstyle, line 155 ('mathtext.fallback_to_cm : True  # When True, use symbols from the Computer Modern')\n",
      "You probably need to get an updated matplotlibrc file from\n",
      "https://github.com/matplotlib/matplotlib/blob/v3.5.1/matplotlibrc.template\n",
      "or from the matplotlib source distribution\n",
      "\n",
      "Bad key savefig.jpeg_quality in file /home/pedroc/anaconda3/lib/python3.7/site-packages/matplotlib/mpl-data/stylelib/_classic_test.mplstyle, line 418 ('savefig.jpeg_quality: 95       # when a jpeg is saved, the default quality parameter.')\n",
      "You probably need to get an updated matplotlibrc file from\n",
      "https://github.com/matplotlib/matplotlib/blob/v3.5.1/matplotlibrc.template\n",
      "or from the matplotlib source distribution\n",
      "\n",
      "Bad key keymap.all_axes in file /home/pedroc/anaconda3/lib/python3.7/site-packages/matplotlib/mpl-data/stylelib/_classic_test.mplstyle, line 466 ('keymap.all_axes : a                 # enable all axes')\n",
      "You probably need to get an updated matplotlibrc file from\n",
      "https://github.com/matplotlib/matplotlib/blob/v3.5.1/matplotlibrc.template\n",
      "or from the matplotlib source distribution\n",
      "\n",
      "Bad key animation.avconv_path in file /home/pedroc/anaconda3/lib/python3.7/site-packages/matplotlib/mpl-data/stylelib/_classic_test.mplstyle, line 477 ('animation.avconv_path: avconv     # Path to avconv binary. Without full path')\n",
      "You probably need to get an updated matplotlibrc file from\n",
      "https://github.com/matplotlib/matplotlib/blob/v3.5.1/matplotlibrc.template\n",
      "or from the matplotlib source distribution\n",
      "\n",
      "Bad key animation.avconv_args in file /home/pedroc/anaconda3/lib/python3.7/site-packages/matplotlib/mpl-data/stylelib/_classic_test.mplstyle, line 479 ('animation.avconv_args:            # Additional arguments to pass to avconv')\n",
      "You probably need to get an updated matplotlibrc file from\n",
      "https://github.com/matplotlib/matplotlib/blob/v3.5.1/matplotlibrc.template\n",
      "or from the matplotlib source distribution\n"
     ]
    }
   ],
   "source": [
    "import warnings\n",
    "warnings.filterwarnings('ignore')\n",
    "import matplotlib.pyplot as plt\n",
    "import numpy as np\n",
    "import seaborn as sns\n",
    "from detection import *\n",
    "from tqdm import tqdm\n",
    "import pandas as pd"
   ]
  },
  {
   "cell_type": "code",
   "execution_count": 3,
   "id": "ee9ba2b5-b9be-48e3-8248-8e8bfc3615b3",
   "metadata": {},
   "outputs": [],
   "source": [
    "plt.rc('text', usetex=True)\n",
    "plt.rc('font', family='serif')"
   ]
  },
  {
   "cell_type": "code",
   "execution_count": 6,
   "id": "9d53b4f4-1a9e-44e9-b964-3d72daf26bb8",
   "metadata": {},
   "outputs": [],
   "source": [
    "E = np.linspace(1.804, 100, 1000000) # Neutrino detection energy\n",
    "detector = 'super-k'\n",
    "resolution = 0.05 # Fraction of error in energy reconstruction\n",
    "distance = 10000"
   ]
  },
  {
   "cell_type": "code",
   "execution_count": 20,
   "id": "657026cf-b3cf-4cfd-a401-78bc454d26ac",
   "metadata": {},
   "outputs": [
    {
     "name": "stdout",
     "output_type": "stream",
     "text": [
      "Number of expected neutrinos by flavor at 10000 parsecs\n",
      "\n",
      "electron neutrinos: 150\n",
      "electron antineutrinos: 3238\n",
      "mu/tau (anti)neutrinos: 16\n",
      "Number of expected neutrinos by flavor at 10000 parsecs\n",
      "\n",
      "electron neutrinos: 146\n",
      "electron antineutrinos: 3318\n",
      "mu/tau (anti)neutrinos: 16\n"
     ]
    }
   ],
   "source": [
    "ref = energy_sampler(E, 2e53, resolution, 'proportional', detector, 'normal', distance)\n",
    "ref_invert = energy_sampler(E, 2e53, resolution, 'proportional', detector, 'inverted', distance)"
   ]
  },
  {
   "cell_type": "code",
   "execution_count": 30,
   "id": "cfe3f888-9197-4afb-bdf5-6ca43d76a4ca",
   "metadata": {},
   "outputs": [
    {
     "data": {
      "text/plain": [
       "14"
      ]
     },
     "execution_count": 30,
     "metadata": {},
     "output_type": "execute_result"
    }
   ],
   "source": [
    "len(ref['nu_x'])"
   ]
  },
  {
   "cell_type": "code",
   "execution_count": 26,
   "id": "3677c239-6f33-457f-bee5-9f5495ace8a7",
   "metadata": {},
   "outputs": [
    {
     "data": {
      "image/png": "[encoded data removed]",
      "text/plain": [
       "<Figure size 720x432 with 1 Axes>"
      ]
     },
     "metadata": {
      "needs_background": "light"
     },
     "output_type": "display_data"
    }
   ],
   "source": [
    "fig = plt.figure(figsize=(10,6))\n",
    "plt.hist(ref['Total'], bins = [2*i for i in range(50)], histtype = 'step', color = 'black',\n",
    "        lw = 2)\n",
    "plt.plot([80, 100], [0,10], label = r'Eventos totais (NO)', color = 'black', lw = 2)\n",
    "# plt.hist(ref_invert['Total'], bins = [2*i for i in range(50)], histtype = 'step', color = 'black',\n",
    "#         lw = 2, label = r'$\\nu_e + \\overline{\\nu}_e + \\nu_x$ (IO)', ls = '--')\n",
    "plt.hist(ref['nu_e'], bins = [2*i for i in range(50)], histtype = 'step', color = 'crimson',\n",
    "        lw = 2)\n",
    "plt.plot([80, 100], [0,10], label = r'$\\nu_e$', color = 'crimson', lw = 2)\n",
    "plt.hist(ref['nubar_e'], bins = [2*i for i in range(50)], histtype = 'step', color = 'teal',\n",
    "        lw = 2)\n",
    "plt.plot([80, 100], [0,10], label = r'$\\overline{\\nu}_e$', color = 'teal', lw = 2)\n",
    "plt.hist(ref['nu_x'], bins = [2*i for i in range(50)], histtype = 'step', color = 'orange',\n",
    "        lw = 2)\n",
    "plt.plot([80, 100], [0,10], label = r'$\\nu_x$', color = 'orange', lw = 2)\n",
    "lgd = plt.legend(title = 'Tipo de neutrino', loc = 'upper right', fontsize = 14)\n",
    "title = lgd.get_title()\n",
    "title.set_fontsize(16)\n",
    "plt.xlabel('Energia do neutrino [MeV]', fontsize = 16)\n",
    "plt.ylabel('Eventos', fontsize = 16)\n",
    "plt.title(f'Espectro de detecção {detector} para supernova a {int(distance/1000)} Kpc', fontsize = 20)\n",
    "plt.xlim(0, 70)\n",
    "plt.yticks(fontsize = 12)\n",
    "plt.xticks(fontsize = 12)\n",
    "\n",
    "fig.patch.set_alpha(0.4)\n",
    "plt.savefig(f'/home/pedroc/Documentos/pedro/Mestradives/Simulations/Supernova-neutrinos/detection_spectrum_{detector}_{int(distance/1000)}_kpc_normal_ordering_pt-br.svg',\n",
    "            bbox_inches = 'tight', dpi = 300)\n",
    "plt.show()"
   ]
  },
  {
   "cell_type": "code",
   "execution_count": 5,
   "id": "0b6366f6-0a66-41ce-a45e-1d03fded7f7a",
   "metadata": {},
   "outputs": [
    {
     "name": "stderr",
     "output_type": "stream",
     "text": [
      "100%|██████████| 20/20 [1:30:08<00:00, 270.45s/it]\n"
     ]
    }
   ],
   "source": [
    "results = {}\n",
    "distances = []\n",
    "means_no = []\n",
    "means_io = []\n",
    "std_no = []\n",
    "std_io = []\n",
    "for i in tqdm(range(20)):\n",
    "    distance = 5000 + 2000*i\n",
    "    tot_no = []\n",
    "    tot_io = []\n",
    "    for j in range(20):\n",
    "        ref = energy_sampler(E, 2e53, resolution, 'proportional', detector, 'normal', distance, print_expected=False, only_total_events=True)\n",
    "        ref_invert = energy_sampler(E, 2e53, resolution, 'proportional', detector, 'inverted', distance, print_expected=False, only_total_events=True)\n",
    "        tot_no.append(ref['Total'])\n",
    "        tot_io.append(ref_invert['Total'])\n",
    "    distances.append(distance)\n",
    "    means_no.append(np.mean(tot_no))\n",
    "    means_io.append(np.mean(tot_io))\n",
    "    std_no.append(np.std(tot_no))\n",
    "    std_io.append(np.std(tot_io))"
   ]
  },
  {
   "cell_type": "code",
   "execution_count": 6,
   "id": "6bffdb9c-8f8c-41a9-83c9-987381b97201",
   "metadata": {},
   "outputs": [],
   "source": [
    "distances = np.array(distances)\n",
    "means_no = np.array(means_no)\n",
    "means_io = np.array(means_io)\n",
    "std_no = np.array(std_no)\n",
    "std_io = np.array(std_io)"
   ]
  },
  {
   "cell_type": "code",
   "execution_count": 7,
   "id": "9a6bc13c-c3b6-4747-865c-85b5db9e78b4",
   "metadata": {},
   "outputs": [],
   "source": [
    "results['Distances'] = distances\n",
    "results['Mean N normal'] = means_no\n",
    "results['Mean N inverted'] = means_io\n",
    "results['SD N normal'] = std_no\n",
    "results['SD N inverted'] = std_io"
   ]
  },
  {
   "cell_type": "code",
   "execution_count": 8,
   "id": "8ce3c00b-e695-4792-96e9-5464369c4436",
   "metadata": {},
   "outputs": [],
   "source": [
    "pd.DataFrame(results).to_csv(f'Total_events_detected_{detector}.csv')"
   ]
  },
  {
   "cell_type": "markdown",
   "id": "d2ef2aff-8238-4ef4-91b1-0499d6b3ce2f",
   "metadata": {},
   "source": [
    "\\begin{align}\n",
    "N_\\nu \\propto \\frac{1}{D^2}\n",
    "\\end{align}"
   ]
  },
  {
   "cell_type": "code",
   "execution_count": 21,
   "id": "84e73b3d-71cd-4e6d-a689-6c45c7466bd5",
   "metadata": {},
   "outputs": [
    {
     "data": {
      "image/png": "[encoded data removed]",
      "text/plain": [
       "<Figure size 432x288 with 1 Axes>"
      ]
     },
     "metadata": {
      "needs_background": "light"
     },
     "output_type": "display_data"
    }
   ],
   "source": [
    "plt.plot(distances, means_no)\n",
    "plt.fill_between(distances, means_no-std_no, means_no+std_no, alpha = 0.3)\n",
    "plt.plot(distances, means_io)\n",
    "plt.fill_between(distances, means_io-std_io, means_io+std_io, alpha = 0.3)\n",
    "plt.yscale('log')\n",
    "# plt.xlim(5000, 10000)\n",
    "plt.show()"
   ]
  },
  {
   "cell_type": "code",
   "execution_count": null,
   "id": "bd763d58-3288-43b1-be11-be1b9cab4762",
   "metadata": {},
   "outputs": [],
   "source": []
  }
 ],
 "metadata": {
  "kernelspec": {
   "display_name": "Python 3 (ipykernel)",
   "language": "python",
   "name": "python3"
  },
  "language_info": {
   "codemirror_mode": {
    "name": "ipython",
    "version": 3
   },
   "file_extension": ".py",
   "mimetype": "text/x-python",
   "name": "python",
   "nbconvert_exporter": "python",
   "pygments_lexer": "ipython3",
   "version": "3.7.11"
  }
 },
 "nbformat": 4,
 "nbformat_minor": 5
}
