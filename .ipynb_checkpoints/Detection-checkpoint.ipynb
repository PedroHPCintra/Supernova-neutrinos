{
 "cells": [
  {
   "cell_type": "code",
   "execution_count": 1,
   "id": "e33c2ad0-2e01-4fac-b098-bb106d64f3fa",
   "metadata": {
    "collapsed": true,
    "jupyter": {
     "outputs_hidden": true
    },
    "tags": []
   },
   "outputs": [
    {
     "name": "stderr",
     "output_type": "stream",
     "text": [
      "\n",
      "Bad key text.latex.preview in file /home/pedroc/anaconda3/lib/python3.7/site-packages/matplotlib/mpl-data/stylelib/_classic_test.mplstyle, line 123 ('text.latex.preview : False')\n",
      "You probably need to get an updated matplotlibrc file from\n",
      "https://github.com/matplotlib/matplotlib/blob/v3.5.1/matplotlibrc.template\n",
      "or from the matplotlib source distribution\n",
      "\n",
      "Bad key mathtext.fallback_to_cm in file /home/pedroc/anaconda3/lib/python3.7/site-packages/matplotlib/mpl-data/stylelib/_classic_test.mplstyle, line 155 ('mathtext.fallback_to_cm : True  # When True, use symbols from the Computer Modern')\n",
      "You probably need to get an updated matplotlibrc file from\n",
      "https://github.com/matplotlib/matplotlib/blob/v3.5.1/matplotlibrc.template\n",
      "or from the matplotlib source distribution\n",
      "\n",
      "Bad key savefig.jpeg_quality in file /home/pedroc/anaconda3/lib/python3.7/site-packages/matplotlib/mpl-data/stylelib/_classic_test.mplstyle, line 418 ('savefig.jpeg_quality: 95       # when a jpeg is saved, the default quality parameter.')\n",
      "You probably need to get an updated matplotlibrc file from\n",
      "https://github.com/matplotlib/matplotlib/blob/v3.5.1/matplotlibrc.template\n",
      "or from the matplotlib source distribution\n",
      "\n",
      "Bad key keymap.all_axes in file /home/pedroc/anaconda3/lib/python3.7/site-packages/matplotlib/mpl-data/stylelib/_classic_test.mplstyle, line 466 ('keymap.all_axes : a                 # enable all axes')\n",
      "You probably need to get an updated matplotlibrc file from\n",
      "https://github.com/matplotlib/matplotlib/blob/v3.5.1/matplotlibrc.template\n",
      "or from the matplotlib source distribution\n",
      "\n",
      "Bad key animation.avconv_path in file /home/pedroc/anaconda3/lib/python3.7/site-packages/matplotlib/mpl-data/stylelib/_classic_test.mplstyle, line 477 ('animation.avconv_path: avconv     # Path to avconv binary. Without full path')\n",
      "You probably need to get an updated matplotlibrc file from\n",
      "https://github.com/matplotlib/matplotlib/blob/v3.5.1/matplotlibrc.template\n",
      "or from the matplotlib source distribution\n",
      "\n",
      "Bad key animation.avconv_args in file /home/pedroc/anaconda3/lib/python3.7/site-packages/matplotlib/mpl-data/stylelib/_classic_test.mplstyle, line 479 ('animation.avconv_args:            # Additional arguments to pass to avconv')\n",
      "You probably need to get an updated matplotlibrc file from\n",
      "https://github.com/matplotlib/matplotlib/blob/v3.5.1/matplotlibrc.template\n",
      "or from the matplotlib source distribution\n"
     ]
    }
   ],
   "source": [
    "import warnings\n",
    "warnings.filterwarnings('ignore')\n",
    "import numpy as np\n",
    "import matplotlib.pyplot as plt\n",
    "import matplotlib.image as mpimg\n",
    "import pylab as pl\n",
    "import scipy.stats as st\n",
    "import seaborn as sns\n",
    "import pandas as pd\n",
    "import detection as dtc\n",
    "import fitting\n",
    "import emission\n",
    "from constants import *\n",
    "import cross_sections as cs\n",
    "from scipy.interpolate import interp1d\n",
    "from math import gamma\n",
    "from scipy.integrate import simps\n",
    "from tqdm import tqdm\n",
    "import os"
   ]
  },
  {
   "cell_type": "code",
   "execution_count": 2,
   "id": "22f495e0-af25-4686-83c2-d325a2ab03ec",
   "metadata": {},
   "outputs": [],
   "source": [
    "plt.rc('text', usetex=True)\n",
    "plt.rc('font', family='serif')"
   ]
  },
  {
   "cell_type": "code",
   "execution_count": 81,
   "id": "407a6a42-0ac5-45bf-921d-0084dd315902",
   "metadata": {},
   "outputs": [],
   "source": [
    "E = np.linspace(1, 100, 1000000) # Neutrino detection energy\n",
    "detector = 'Hyper-k'\n",
    "resolution = 0.05 # Fraction of error in energy reconstruction\n",
    "distance = 10 # kpc\n",
    "if detector == 'super-k':\n",
    "    targets = (32e9/18.01528)*6.022e23*2\n",
    "elif detector == 'DUNE':\n",
    "    targets = 6.03e32\n",
    "elif detector == 'JUNO':\n",
    "    targets = 1.5e33\n",
    "elif detector == 'Hyper-k':\n",
    "    targets = (216e9/18.01528)*6.022e23*2"
   ]
  },
  {
   "cell_type": "code",
   "execution_count": 82,
   "id": "b56ad670-5253-4fec-856a-63321ec96092",
   "metadata": {},
   "outputs": [
    {
     "name": "stdout",
     "output_type": "stream",
     "text": [
      "\n",
      "Number of expected neutrinos by flavor at 10 kpc (Hyper-k)\n",
      "\n",
      "electron neutrinos: 17100\n",
      "electron antineutrinos: 43249\n",
      "mu/tau (anti)neutrinos: 99\n"
     ]
    }
   ],
   "source": [
    "ref = dtc.energy_sampler(E, 5e52, resolution, 'proportional', detector, 'normal', distance, phi = 0)\n",
    "# ref_invert = dtc.energy_sampler(E, 5e52, resolution, 'proportional', detector, 'inverted', distance, phi = 0)"
   ]
  },
  {
   "cell_type": "code",
   "execution_count": 83,
   "id": "04d1fa3d-2370-49f1-b86a-226a475392a6",
   "metadata": {},
   "outputs": [],
   "source": [
    "y, bins = np.histogram(ref['Total'], bins = [i for i in range(91)], density = True)"
   ]
  },
  {
   "cell_type": "code",
   "execution_count": 84,
   "id": "b753565c-c255-4be4-b6c8-0b3e9c27269d",
   "metadata": {},
   "outputs": [],
   "source": [
    "x = (bins[:-1] + bins[1:])/2"
   ]
  },
  {
   "cell_type": "code",
   "execution_count": 91,
   "id": "c8691d99-63d2-41bd-854b-193f07f8915e",
   "metadata": {},
   "outputs": [
    {
     "data": {
      "text/plain": [
       "[<matplotlib.lines.Line2D at 0x7fab0e00e810>]"
      ]
     },
     "execution_count": 91,
     "metadata": {},
     "output_type": "execute_result"
    },
    {
     "data": {
      "image/png": "[encoded data removed]",
      "text/plain": [
       "<Figure size 432x288 with 1 Axes>"
      ]
     },
     "metadata": {
      "needs_background": "light"
     },
     "output_type": "display_data"
    }
   ],
   "source": [
    "plt.plot(x, y)"
   ]
  },
  {
   "cell_type": "code",
   "execution_count": 92,
   "id": "4b16793b-1959-4daf-8667-f2562ed2df87",
   "metadata": {},
   "outputs": [],
   "source": [
    "f = fitting.fitting_spectra"
   ]
  },
  {
   "cell_type": "code",
   "execution_count": 93,
   "id": "e93d775f-c271-42a5-9dea-de52c7a004bf",
   "metadata": {},
   "outputs": [],
   "source": [
    "prior_params = np.array([[0,10],[0,20]], dtype=np.float64)"
   ]
  },
  {
   "cell_type": "code",
   "execution_count": 94,
   "id": "901b917b-75a5-4c2c-8895-aeaeb1afec99",
   "metadata": {},
   "outputs": [
    {
     "name": "stdout",
     "output_type": "stream",
     "text": [
      "100.00% of samples sorted. Elapsed time (h:m:s): 0:05:29.733567"
     ]
    }
   ],
   "source": [
    "post = fitting.rejABC(f, x, y, prior_params, 7e-3, 10000)"
   ]
  },
  {
   "cell_type": "code",
   "execution_count": null,
   "id": "b3b99288-47cf-4501-b672-daf1743e25a7",
   "metadata": {},
   "outputs": [
    {
     "name": "stdout",
     "output_type": "stream",
     "text": [
      "51.00% of samples sorted. Elapsed time (h:m:s): 0:13:31.817018"
     ]
    }
   ],
   "source": [
    "n_bins = 40\n",
    "\n",
    "repeat = 5\n",
    "\n",
    "for l in range(repeat):\n",
    "    p = post[np.where(post[:,-1] == np.min(post[:,-1]))[0][0]][:-1]\n",
    "    p_std = np.std(post[:,:-1], axis=0) # Parameter error as standard deviation of posterior\n",
    "    \n",
    "    hist = np.zeros((len(p), n_bins))\n",
    "    bins = np.zeros((len(p), n_bins+1))\n",
    "    \n",
    "    # Define new priors\n",
    "    for k in range(len(hist)):\n",
    "        hist[k], bins[k] = np.histogram(post[:, k], n_bins, density=True)\n",
    "    eps = np.median(post[:,-1])\n",
    "    post = fitting.smcABC(f, x, y, hist, bins, n_bins, p_std, eps, 50000, 10000)"
   ]
  },
  {
   "cell_type": "code",
   "execution_count": null,
   "id": "776c056b-cec9-4073-bcfe-e9ad29aaff31",
   "metadata": {},
   "outputs": [],
   "source": [
    "plt.hist(post[:,0], bins = 40)\n",
    "plt.show()"
   ]
  },
  {
   "cell_type": "code",
   "execution_count": null,
   "id": "fe2c16d9-fa96-4df7-9c8b-7735a9a2c4e4",
   "metadata": {},
   "outputs": [],
   "source": [
    "sns.pairplot(pd.DataFrame(post[:,:-1]))"
   ]
  },
  {
   "cell_type": "code",
   "execution_count": null,
   "id": "77520cb4-43ec-4507-8bdc-585b6b815cb7",
   "metadata": {},
   "outputs": [],
   "source": [
    "plt.plot(x, y, lw = 2, color = 'black')\n",
    "for i in tqdm(range(int(len(post[:,0])/5))):\n",
    "    plt.plot(x, f(x, post[i,0], post[i,1], 'Hyper-k'), lw = 1,\n",
    "             color = 'blue', alpha = 0.002)\n",
    "\n",
    "plt.show()"
   ]
  },
  {
   "cell_type": "code",
   "execution_count": 103,
   "id": "7a6ce328-b3b4-4894-96c8-884999aab1a6",
   "metadata": {},
   "outputs": [],
   "source": [
    "pd.DataFrame(post).rename(columns={0: 'Alpha', 1: 'Mean energy', 2: 'Error'}).to_csv(f'Results/Alpha_and_E_mean_supernova_energy_per_flavor_5e52_distance_{distance}_detector_{detector}.csv')"
   ]
  },
  {
   "cell_type": "markdown",
   "id": "c8cac336-b00c-4c9d-8ab4-b758bc045f8c",
   "metadata": {},
   "source": [
    "## Loop with different distances"
   ]
  },
  {
   "cell_type": "code",
   "execution_count": 16,
   "id": "87b4878d-d34e-4ff8-9796-784acf0a4864",
   "metadata": {
    "tags": []
   },
   "outputs": [
    {
     "name": "stderr",
     "output_type": "stream",
     "text": [
      " 92%|█████████▎| 37/40 [38:43:54<3:08:25, 3768.50s/it] "
     ]
    },
    {
     "name": "stdout",
     "output_type": "stream",
     "text": [
      "Muitos poucos neutrinos detectados. Distância: 190 kpc\n"
     ]
    },
    {
     "name": "stderr",
     "output_type": "stream",
     "text": [
      "\n"
     ]
    }
   ],
   "source": [
    "prior_params = np.array([[0,10],[0,20]], dtype=np.float64)\n",
    "f = fitting.fitting_spectra\n",
    "\n",
    "n_bins = 40\n",
    "repeat = 5\n",
    "\n",
    "for i in tqdm(range(40)):\n",
    "    # print(f'\\r Simulation {i+1} of 50', end=\"\\n\")\n",
    "    distance = 5*(i+1) # kpc\n",
    "    ref = dtc.energy_sampler(E, 5e52, resolution, 'proportional', detector, 'normal', distance,\n",
    "                             phi = 0, print_expected = False)\n",
    "    if len(ref['Total']) < 20:\n",
    "        print(f'Muitos poucos neutrinos detectados. Distância: {distance} kpc')\n",
    "        break\n",
    "    y, bins = np.histogram(ref['Total'], bins = [i for i in range(91)], density = True)\n",
    "    x = (bins[:-1] + bins[1:])/2\n",
    "    post = fitting.rejABC(f, x, y, prior_params, 7e-3, 10000, print_progress = False)\n",
    "\n",
    "    for l in range(repeat):\n",
    "        p = post[np.where(post[:,-1] == np.min(post[:,-1]))[0][0]][:-1]\n",
    "        p_std = np.std(post[:,:-1], axis=0) # Parameter error as standard deviation of posterior\n",
    "\n",
    "        hist = np.zeros((len(p), n_bins))\n",
    "        bins = np.zeros((len(p), n_bins+1))\n",
    "\n",
    "        # Define new priors\n",
    "        for k in range(len(hist)):\n",
    "            hist[k], bins[k] = np.histogram(post[:, k], n_bins, density=True)\n",
    "        eps = np.median(post[:,-1])\n",
    "        post = fitting.smcABC(f, x, y, hist, bins, n_bins, p_std, eps, 50000, 10000, print_progress = False)\n",
    "        \n",
    "    pd.DataFrame(post).rename(columns={0: 'Alpha', 1: 'Mean energy', 2: 'Error'}).to_csv(f\"Results/Alpha_and_E_mean_supernova_energy_per_flavor_5e52_distance_{distance}_detector_{detector}_total_detections_{len(ref['Total'])}.csv\")"
   ]
  },
  {
   "cell_type": "code",
   "execution_count": 3,
   "id": "d5aac12e-1add-41f4-9a8a-a47fe213c597",
   "metadata": {},
   "outputs": [],
   "source": [
    "results = os.listdir('Results')"
   ]
  },
  {
   "cell_type": "code",
   "execution_count": 5,
   "id": "1f42446f-c1f7-4694-93b1-790042ecffc6",
   "metadata": {},
   "outputs": [
    {
     "data": {
      "text/plain": [
       "'super-k'"
      ]
     },
     "execution_count": 5,
     "metadata": {},
     "output_type": "execute_result"
    }
   ],
   "source": [
    "results[0].split('_')[12]"
   ]
  },
  {
   "cell_type": "code",
   "execution_count": 88,
   "id": "f42121b8-ffde-4c39-838e-a9f986fcbbfc",
   "metadata": {},
   "outputs": [
    {
     "name": "stderr",
     "output_type": "stream",
     "text": [
      "100%|██████████| 156/156 [00:00<00:00, 249.72it/s]\n"
     ]
    },
    {
     "data": {
      "image/png": "[encoded data removed]",
      "text/plain": [
       "<Figure size 864x720 with 2 Axes>"
      ]
     },
     "metadata": {},
     "output_type": "display_data"
    }
   ],
   "source": [
    "fig = plt.figure(figsize=(12,10))\n",
    "ax0 = fig.add_subplot(211)\n",
    "# ax1 = fig.add_subplot(212, polar=True)\n",
    "ax1 = fig.add_subplot(212)\n",
    "for i in tqdm(range(len(results))):\n",
    "    d = results[i].split('_')[10]\n",
    "    if results[i].split('_')[12] == detector:\n",
    "        df = pd.read_csv(f'Results/{results[i]}')\n",
    "    else:\n",
    "        continue\n",
    "    # df = pd.read_csv(f'Results/{results[i]}')\n",
    "    ax0.boxplot(df['Alpha'], positions = [int(d)], widths = 3, patch_artist = True,\n",
    "                          boxprops = {'facecolor': sns.color_palette('inferno')[1], \n",
    "                                      'edgecolor': 'black', 'alpha': 0.9},\n",
    "                          whis = (0, 100), medianprops = {'color': 'black',\n",
    "                                                         'linewidth': 1})\n",
    "    # for pc in violin['bodies']:\n",
    "    #     pc.set_facecolor('#D43F3A')\n",
    "    #     pc.set_edgecolor('black')\n",
    "    #     pc.set_alpha(0.8)\n",
    "\n",
    "    ax1.boxplot(df['Mean energy'], positions = [int(d)], widths = 3, patch_artist = True,\n",
    "                          boxprops = {'facecolor': sns.color_palette('inferno')[2],\n",
    "                                      'edgecolor': 'black', 'alpha': 0.9},\n",
    "                          whis = (0, 100), medianprops = {'color':'black', 'linewidth': 1})\n",
    "    # violin = ax1.violinplot(df['Mean energy'], positions = [d], widths = 0.1, showextrema = False)\n",
    "    # for pc in violin['bodies']:\n",
    "    #     pc.set_facecolor('white')\n",
    "    #     pc.set_edgecolor('black')\n",
    "    #     pc.set_alpha(0.8)\n",
    "\n",
    "ax0.set_xlim(2, 188)\n",
    "ax0.set_ylim(0, 10)\n",
    "ax0.set_xlabel('Distance [kpc]', fontsize = 20)\n",
    "ax0.set_ylabel(r'Pinch $\\alpha$', fontsize = 20)\n",
    "ax0.set_xticks([5+10*i for i in range(19)])\n",
    "ax0.set_xticklabels(ax0.get_xticks(), fontsize = 14)\n",
    "ax0.set_yticklabels(ax0.get_yticks(), fontsize = 14)\n",
    "\n",
    "ax1.set_xlim(2, 188)\n",
    "ax1.set_ylim(8, 21)\n",
    "ax1.set_xlabel('Distance [kpc]', fontsize = 20)\n",
    "ax1.set_ylabel(r'Mean energy $\\left \\langle E_{\\nu} \\right \\rangle$', fontsize = 20)\n",
    "ax1.set_xticks([5+10*i for i in range(19)])\n",
    "ax1.set_xticklabels(ax1.get_xticks(), fontsize = 14)\n",
    "ax1.set_yticklabels(ax1.get_yticks(), fontsize = 14)\n",
    "\n",
    "ax0.set_title(f'Parameters for CCSN spectrum from simulated detections - {detector}',\n",
    "              fontsize = 24, pad = 10)\n",
    "\n",
    "im = mpimg.imread(r\"/home/pedroc/Documentos/pedro/Mestradives/Rodrigo_faro_transparente.png\")\n",
    "# im2 = mpimg.imread(r\"/home/pedroc/Documentos/pedro/Mestradives/shrek.png\")\n",
    "im3 = mpimg.imread(r\"/home/pedroc/Documentos/pedro/Mestradives/Explosion.png\")\n",
    "im4 = mpimg.imread(r\"/home/pedroc/Documentos/pedro/Mestradives/ben10.png\")\n",
    "im5 = mpimg.imread(r\"/home/pedroc/Documentos/pedro/Mestradives/duck.png\")\n",
    "\n",
    "# ax1.patch.set_color('indianred')\n",
    "# ax1.set_title('\\n''RECEBA', fontsize = 26)\n",
    "# circle = plt.Circle((0, 0), 4, transform=ax1.transData._b, color=\"maroon\", alpha=0.8)\n",
    "# ax1.add_artist(circle)\n",
    "# ax1.set_rlim(23, 8)\n",
    "# ax1.grid(False)\n",
    "# ax1.set_yticklabels([])\n",
    "# plt.tight_layout()\n",
    "# newax = fig.add_axes([0.14,0.086,0.383,0.383], anchor='NE', zorder=-1)\n",
    "# newax.imshow(im)\n",
    "# newax.axis('off')\n",
    "\n",
    "# newax = fig.add_axes([0.42,0.25,0.07,0.07], anchor='NE', zorder=1)\n",
    "# newax.imshow(im2)\n",
    "# newax.axis('off')\n",
    "\n",
    "# newax = fig.add_axes([0.35,0.168,0.3,0.3], anchor='NE', zorder=-1)\n",
    "# newax.imshow(im3)\n",
    "# newax.axis('off')\n",
    "# newax = fig.add_axes([0.65,0.53,0.2,0.2], anchor='NE', zorder=-1)\n",
    "# newax.imshow(im4)\n",
    "# newax.axis('off')\n",
    "# newax = fig.add_axes([0.1,0.528,0.1,0.1], anchor='NE', zorder=-1)\n",
    "# newax.imshow(im5)\n",
    "# newax.axis('off')\n",
    "fig.patch.set_alpha(1)\n",
    "for ax in fig.axes:\n",
    "    ax.patch.set_alpha(1)\n",
    "plt.savefig(f'Plots/Results_alpha_E_mean_distances_{detector}.png',\n",
    "            dpi = 300, bbox_inches = 'tight')\n",
    "plt.show()"
   ]
  },
  {
   "cell_type": "markdown",
   "id": "ec0a0a60-80eb-4880-a8a6-e2a941300cc2",
   "metadata": {},
   "source": [
    "# Distance estimation"
   ]
  },
  {
   "cell_type": "code",
   "execution_count": 15,
   "id": "1788e5cf-2254-46b8-bd33-a1b2cf38ff1c",
   "metadata": {},
   "outputs": [],
   "source": [
    "# neutron star mass\n",
    "m_ns = np.random.normal(1.33, 0.09)\n",
    "# equation of state\n",
    "eos = pd.read_csv('/home/pedroc/Documentos/pedro/Mestradives/Simulations/Neutron_eos_sly9.csv', sep = ';', header = None)\n",
    "eos = eos.apply(lambda x: x.str.replace(',','.'))\n",
    "eos = eos.rename(columns={0: 'Neutron Star Radius', 1: 'Neutron Star Mass'})\n",
    "eos = eos.sort_values('Neutron Star Mass')\n",
    "eos['Neutron Star Mass'] = eos['Neutron Star Mass'].astype('float')\n",
    "eos['Neutron Star Radius'] = eos['Neutron Star Radius'].astype('float')\n",
    "f = interp1d(eos['Neutron Star Mass'].values, eos['Neutron Star Radius'].values, fill_value = 'extrapolate')#, kind='cubic')"
   ]
  },
  {
   "cell_type": "code",
   "execution_count": 16,
   "id": "b715e462-aa89-406b-bd5c-3b55496608be",
   "metadata": {},
   "outputs": [
    {
     "data": {
      "text/html": [
       "<div>\n",
       "<style scoped>\n",
       "    .dataframe tbody tr th:only-of-type {\n",
       "        vertical-align: middle;\n",
       "    }\n",
       "\n",
       "    .dataframe tbody tr th {\n",
       "        vertical-align: top;\n",
       "    }\n",
       "\n",
       "    .dataframe thead th {\n",
       "        text-align: right;\n",
       "    }\n",
       "</style>\n",
       "<table border=\"1\" class=\"dataframe\">\n",
       "  <thead>\n",
       "    <tr style=\"text-align: right;\">\n",
       "      <th></th>\n",
       "      <th>Neutron Star Radius</th>\n",
       "      <th>Neutron Star Mass</th>\n",
       "    </tr>\n",
       "  </thead>\n",
       "  <tbody>\n",
       "    <tr>\n",
       "      <th>34</th>\n",
       "      <td>16.661</td>\n",
       "      <td>0.20245</td>\n",
       "    </tr>\n",
       "    <tr>\n",
       "      <th>33</th>\n",
       "      <td>16.342</td>\n",
       "      <td>0.20245</td>\n",
       "    </tr>\n",
       "    <tr>\n",
       "      <th>32</th>\n",
       "      <td>15.942</td>\n",
       "      <td>0.20859</td>\n",
       "    </tr>\n",
       "    <tr>\n",
       "      <th>31</th>\n",
       "      <td>15.479</td>\n",
       "      <td>0.22086</td>\n",
       "    </tr>\n",
       "    <tr>\n",
       "      <th>30</th>\n",
       "      <td>15.048</td>\n",
       "      <td>0.23313</td>\n",
       "    </tr>\n",
       "  </tbody>\n",
       "</table>\n",
       "</div>"
      ],
      "text/plain": [
       "    Neutron Star Radius  Neutron Star Mass\n",
       "34               16.661            0.20245\n",
       "33               16.342            0.20245\n",
       "32               15.942            0.20859\n",
       "31               15.479            0.22086\n",
       "30               15.048            0.23313"
      ]
     },
     "execution_count": 16,
     "metadata": {},
     "output_type": "execute_result"
    }
   ],
   "source": [
    "eos.head(5)"
   ]
  },
  {
   "cell_type": "code",
   "execution_count": 17,
   "id": "20f8babd-f092-444d-9ec5-4ac98df04f41",
   "metadata": {},
   "outputs": [
    {
     "data": {
      "text/plain": [
       "[<matplotlib.lines.Line2D at 0x7fab0e462290>]"
      ]
     },
     "execution_count": 17,
     "metadata": {},
     "output_type": "execute_result"
    },
    {
     "data": {
      "image/png": "[encoded data removed]",
      "text/plain": [
       "<Figure size 432x288 with 1 Axes>"
      ]
     },
     "metadata": {
      "needs_background": "light"
     },
     "output_type": "display_data"
    }
   ],
   "source": [
    "xnew = np.linspace(0.1, 2.1, 1000)\n",
    "\n",
    "plt.plot(xnew, f(xnew))"
   ]
  },
  {
   "cell_type": "code",
   "execution_count": 18,
   "id": "8193064d-d536-4d91-b342-3835846762f4",
   "metadata": {},
   "outputs": [],
   "source": [
    "def find_nearest(array, value):\n",
    "    array = np.asarray(array)\n",
    "    idx = (np.abs(array - value)).argmin()\n",
    "    return array[idx], idx"
   ]
  },
  {
   "cell_type": "code",
   "execution_count": 19,
   "id": "b35a2bb1-26af-4922-af59-821fec2f8345",
   "metadata": {},
   "outputs": [
    {
     "data": {
      "text/plain": [
       "(1.3069206920692071, 6034)"
      ]
     },
     "execution_count": 19,
     "metadata": {},
     "output_type": "execute_result"
    }
   ],
   "source": [
    "xnew = np.linspace(0.1, 2.1, 10000)\n",
    "\n",
    "find_nearest(xnew, m_ns)"
   ]
  },
  {
   "cell_type": "code",
   "execution_count": 20,
   "id": "696b8f94-9f4a-4c04-bcd3-c12d47a08a24",
   "metadata": {},
   "outputs": [],
   "source": [
    "radius = f(find_nearest(xnew, m_ns)[0])"
   ]
  },
  {
   "cell_type": "markdown",
   "id": "a4e0c0ef-6ba5-4355-92b1-d28e7b9aedcf",
   "metadata": {},
   "source": [
    "\\begin{align}\n",
    "& L - \\frac{G M_{\\mathrm{NS}}^2}{R_{\\mathrm{NS}}} \\approx L = 3.6 \\times 10^{53} \\left( \\frac{M_{\\mathrm{NS}}}{1.5 M_\\odot} \\right)^2 \\left( \\frac{10 \\mathrm{km}}{R_{\\mathrm{NS}}} \\right) \\text{ ergs}\n",
    "\\end{align}\n",
    "\n",
    "Shapiro, S. L., & Teukolsky, S. A. (2008). Black holes, white dwarfs, and neutron stars: The physics of compact objects. John Wiley & Sons."
   ]
  },
  {
   "cell_type": "code",
   "execution_count": 21,
   "id": "d5ca0fc8-c06a-4fe1-b666-fae6d58e311e",
   "metadata": {},
   "outputs": [],
   "source": [
    "L = 3.6e53*((m_ns/1.5)**2)*(10/radius)"
   ]
  },
  {
   "cell_type": "code",
   "execution_count": 22,
   "id": "f9c327e0-c496-4c39-a738-9ab6e05c3e18",
   "metadata": {},
   "outputs": [
    {
     "data": {
      "text/plain": [
       "2.3231829534947843e+53"
      ]
     },
     "execution_count": 22,
     "metadata": {},
     "output_type": "execute_result"
    }
   ],
   "source": [
    "L"
   ]
  },
  {
   "cell_type": "code",
   "execution_count": 23,
   "id": "6778f7f9-0b18-43dd-8256-6bf61e3ed84f",
   "metadata": {},
   "outputs": [],
   "source": [
    "def spectrum_shape(x, alpha, E_mean):\n",
    "    \"\"\"\n",
    "    Overral shape of the emission spectrum\n",
    "    \"\"\"\n",
    "    f_nu = (x**alpha)*np.exp(-(alpha + 1)*x/E_mean)\n",
    "    return f_nu"
   ]
  },
  {
   "cell_type": "code",
   "execution_count": 30,
   "id": "aa8a4b1b-e9ef-4314-8c7d-a76210a77b56",
   "metadata": {},
   "outputs": [],
   "source": [
    "if detector == 'super-k':\n",
    "    channels = ['ibd','nue_e','nuebar_e','nue_O16','nuebar_O16','numu_e',\n",
    "                'numubar_e','nc_nue_O16','nc_nuebar_O16']\n",
    "    xs_data = cs.snowglobes(channels)\n",
    "\n",
    "    # All these cross sections are in units of 10⁻³⁸ cm²/MeV\n",
    "    cs_ibd = interp1d(1e3*(10**(xs_data[0][0])), xs_data[0][4]/1e3)\n",
    "    cs_nue_e = interp1d(1e3*(10**(xs_data[0][0])), xs_data[1][1]/1e3)\n",
    "    cs_nuebar_e = interp1d(1e3*(10**(xs_data[0][0])), xs_data[2][4]/1e3)\n",
    "    cs_nue_O16 = interp1d(1e3*(10**(xs_data[0][0])), xs_data[3][1]/1e3)\n",
    "    cs_nuebar_O16 = interp1d(1e3*(10**(xs_data[0][0])), xs_data[4][1]/1e3)\n",
    "    cs_nux_e = interp1d(1e3*(10**(xs_data[0][0])), xs_data[5][2]/1e3)\n",
    "    cs_nuxbar_e = interp1d(1e3*(10**(xs_data[0][0])), xs_data[6][5]/1e3)\n",
    "    cs_nc_nue_O16 = interp1d(1e3*(10**(xs_data[0][0])), xs_data[7][1]/1e3)\n",
    "    cs_nc_nuebar_O16 = interp1d(1e3*(10**(xs_data[0][0])), xs_data[8][4]/1e3)\n",
    "    # Total cross section\n",
    "    total_cross = cs_nue_e(x)*x*1e-38 + cs_nue_O16(x)*x*1e-38 + cs_nc_nue_O16(x)*x*1e-38 + cs_nuebar_e(x)*x*1e-38 + cs_ibd(x)*x*1e-38 + cs_nuebar_O16(x)*x*1e-38 + cs_nc_nuebar_O16(x)*x*1e-38 + cs_nux_e(x)*x*1e-38 + cs_nuxbar_e(x)*x*1e-38\n",
    "elif detector == 'DUNE':\n",
    "    channels = ['ibd','nue_e','nuebar_e','nue_Ar40','nuebar_Ar40','numu_e',\n",
    "                'numubar_e','nc_nue_Ar40','nc_nuebar_Ar40','nc_numu_Ar40',\n",
    "                'nc_numubar_Ar40']\n",
    "    xs_data = cs.snowglobes(channels)\n",
    "\n",
    "    # All these cross sections are in units of 10⁻³⁸ cm²/MeV\n",
    "    cs_ibd = interp1d(1e3*(10**(xs_data[0][0])), xs_data[0][4]/1e3, fill_value='extrapolate')\n",
    "    cs_nue_e = interp1d(1e3*(10**(xs_data[0][0])), xs_data[1][1]/1e3, fill_value='extrapolate')\n",
    "    cs_nuebar_e = interp1d(1e3*(10**(xs_data[0][0])), xs_data[2][4]/1e3, fill_value='extrapolate')\n",
    "    cs_nue_Ar40 = interp1d(1e3*(10**(xs_data[0][0])), xs_data[3][1]/1e3, fill_value='extrapolate')\n",
    "    cs_nuebar_Ar40 = interp1d(1e3*(10**(xs_data[0][0])), xs_data[4][1]/1e3, fill_value='extrapolate')\n",
    "    cs_nux_e = interp1d(1e3*(10**(xs_data[0][0])), xs_data[5][2]/1e3, fill_value='extrapolate')\n",
    "    cs_nuxbar_e = interp1d(1e3*(10**(xs_data[0][0])), xs_data[6][5]/1e3, fill_value='extrapolate')\n",
    "    cs_nc_nue_Ar40 = interp1d(1e3*(10**(xs_data[0][0])), xs_data[7][1]/1e3, fill_value='extrapolate')\n",
    "    cs_nc_nuebar_Ar40 = interp1d(1e3*(10**(xs_data[0][0])), xs_data[8][4]/1e3, fill_value='extrapolate')\n",
    "    cs_nc_nux_Ar40 = interp1d(1e3*(10**(xs_data[0][0])), xs_data[9][2]/1e3, fill_value='extrapolate')\n",
    "    cs_nc_nuxbar_Ar40 = interp1d(1e3*(10**(xs_data[0][0])), xs_data[10][5]/1e3, fill_value='extrapolate')\n",
    "    # Total cross section\n",
    "    total_cross = cs_nue_e(x)*x*1e-38 + cs_nue_Ar40(x)*x*1e-38 + cs_nc_nue_Ar40(x)*x*1e-38 + cs_nuebar_e(x)*x*1e-38 + cs_ibd(x)*x*1e-38 + cs_nuebar_Ar40(x)*x*1e-38 + cs_nc_nuebar_Ar40(x)*x*1e-38 + cs_nux_e(x)*x*1e-38 + cs_nuxbar_e(x)*x*1e-38 + cs_nc_nux_Ar40(x)*x*1e-38 + cs_nc_nuxbar_Ar40(x)*x*1e-38\n",
    "elif detector == 'JUNO':\n",
    "    channels = ['ibd','nue_e','nuebar_e','nue_C12','nuebar_C12','numu_e',\n",
    "                'numubar_e','nc_nue_C12','nc_nuebar_C12','nc_numu_C12',\n",
    "                'nc_numubar_C12']\n",
    "    xs_data = cs.snowglobes(channels)\n",
    "\n",
    "    # All these cross sections are in units of 10⁻³⁸ cm²/MeV\n",
    "    cs_ibd = interp1d(1e3*(10**(xs_data[0][0])), xs_data[0][4]/1e3, fill_value = (0,xs_data[0][1][-1]/1e3))\n",
    "    cs_nue_e = interp1d(1e3*(10**(xs_data[0][0])), xs_data[1][1]/1e3, fill_value = (0,xs_data[1][1][-1]/1e3))\n",
    "    cs_nuebar_e = interp1d(1e3*(10**(xs_data[0][0])), xs_data[2][4]/1e3, fill_value = (0,xs_data[2][4][-1]/1e3))\n",
    "    cs_nue_C12 = interp1d(1e3*(10**(xs_data[0][0])), xs_data[3][1]/1e3, fill_value = (0,xs_data[3][1][-1]/1e3))\n",
    "    cs_nuebar_C12 = interp1d(1e3*(10**(xs_data[0][0])), xs_data[4][1]/1e3, fill_value = (0,xs_data[4][1][-1]/1e3))\n",
    "    cs_nux_e = interp1d(1e3*(10**(xs_data[0][0])), xs_data[5][2]/1e3, fill_value = (0,xs_data[5][2][-1]/1e3))\n",
    "    cs_nuxbar_e = interp1d(1e3*(10**(xs_data[0][0])), xs_data[6][5]/1e3, fill_value = (0,xs_data[6][5][-1]/1e3))\n",
    "    cs_nc_nue_C12 = interp1d(1e3*(10**(xs_data[7][0])), xs_data[7][1]/1e3, fill_value = 'extrapolate')\n",
    "    cs_nc_nuebar_C12 = interp1d(1e3*(10**(xs_data[8][0])), xs_data[8][4]/1e3, fill_value = 'extrapolate')\n",
    "    cs_nc_nux_C12 = interp1d(1e3*(10**(xs_data[9][0])), xs_data[9][2]/1e3, fill_value = 'extrapolate')\n",
    "    cs_nc_nuxbar_C12 = interp1d(1e3*(10**(xs_data[10][0])), xs_data[10][5]/1e3, fill_value = 'extrapolate')\n",
    "    # Number of target particles\n",
    "    \"\"\"\"\n",
    "    Fengpeng, A., Guangpeng, A. N., Qi, A. N., Antonelli, V., Baussan, E.,\n",
    "    Beacom, J., ... & Sinev, V. (2016). Neutrino physics with JUNO.\n",
    "    \"\"\"\n",
    "    n_target = 1.5e33\n",
    "    # Total cross section\n",
    "    total_cross = cs_nue_e(x)*x*1e-38 + cs_nue_C12(x)*x*1e-38 + cs_nc_nue_C12(x)*x*1e-38 + cs_nuebar_e(x)*x*1e-38 + cs_ibd(x)*x*1e-38 + cs_nuebar_C12(x)*x*1e-38 + cs_nc_nuebar_C12(x)*x*1e-38 + cs_nux_e(x)*x*1e-38 + cs_nuxbar_e(x)*x*1e-38 + cs_nc_nux_C12(x)*x*1e-38 + cs_nc_nuxbar_C12(x)*x*1e-38\n",
    "elif detector == 'Hyper-k':\n",
    "    channels = ['ibd','nue_e','nuebar_e','nue_O16','nuebar_O16','numu_e',\n",
    "                'numubar_e','nc_nue_O16','nc_nuebar_O16']\n",
    "    xs_data = cs.snowglobes(channels)\n",
    "\n",
    "    # All these cross sections are in units of 10⁻³⁸ cm²/MeV\n",
    "    cs_ibd = interp1d(1e3*(10**(xs_data[0][0])), xs_data[0][4]/1e3, fill_value='extrapolate')\n",
    "    cs_nue_e = interp1d(1e3*(10**(xs_data[0][0])), xs_data[1][1]/1e3, fill_value='extrapolate')\n",
    "    cs_nuebar_e = interp1d(1e3*(10**(xs_data[0][0])), xs_data[2][4]/1e3, fill_value='extrapolate')\n",
    "    cs_nue_O16 = interp1d(1e3*(10**(xs_data[0][0])), xs_data[3][1]/1e3, fill_value='extrapolate')\n",
    "    cs_nuebar_O16 = interp1d(1e3*(10**(xs_data[0][0])), xs_data[4][1]/1e3, fill_value='extrapolate')\n",
    "    cs_nux_e = interp1d(1e3*(10**(xs_data[0][0])), xs_data[5][2]/1e3, fill_value='extrapolate')\n",
    "    cs_nuxbar_e = interp1d(1e3*(10**(xs_data[0][0])), xs_data[6][5]/1e3, fill_value='extrapolate')\n",
    "    cs_nc_nue_O16 = interp1d(1e3*(10**(xs_data[0][0])), xs_data[7][1]/1e3, fill_value='extrapolate')\n",
    "    cs_nc_nue_O16 = interp1d(1e3*(10**(xs_data[0][0])), xs_data[7][1]/1e3, fill_value='extrapolate')\n",
    "    cs_nc_nuebar_O16 = interp1d(1e3*(10**(xs_data[0][0])), xs_data[8][4]/1e3, fill_value='extrapolate')\n",
    "    # Number of target particles\n",
    "    n_target = (216e9/18.01528)*6.022e23*2 # number of protons\n",
    "    # Total cross section\n",
    "    total_cross = cs_nue_e(x)*x*1e-38 + cs_nue_O16(x)*x*1e-38 + cs_nc_nue_O16(x)*x*1e-38 + cs_nuebar_e(x)*x*1e-38 + cs_ibd(x)*x*1e-38 + cs_nuebar_O16(x)*x*1e-38 + cs_nux_e(x)*x*1e-38 + cs_nuxbar_e(x)*x*1e-38 + cs_nc_nuebar_O16(x)*x*1e-38"
   ]
  },
  {
   "cell_type": "markdown",
   "id": "fa0459f2-4452-4548-ad0e-e1ceb5499ad6",
   "metadata": {},
   "source": [
    "The distance from the Supernova to the detector may be written as\n",
    "\\begin{align}\n",
    "    D &= \\displaystyle \\sqrt{\\frac{n_{\\mathrm{tot}} L}{N_\\nu^{\\mathrm{tot}}} \\int_0^\\infty \\mathcal{F}_{\\mathrm{tot}}^d (E) \\sigma(E) \\varepsilon(E) dE} \\approx \\\\\n",
    "    &\\approx \\displaystyle \\sqrt{3.6 \\times 10^{53} \\left( \\frac{M_{\\mathrm{NS}}}{1.5 M_\\odot} \\right)^2 \\left( \\frac{10 \\mathrm{km}}{R_{\\mathrm{NS}}} \\right) \\frac{n_{\\mathrm{tot}}}{N_\\nu^{\\mathrm{tot}}} \\int_0^\\infty \\mathcal{F}_{\\mathrm{tot}}^d (E) \\sigma(E) \\varepsilon(E) dE}\n",
    "\\end{align}\n",
    "\n",
    "where the mass of the neutron star is given by a normal distribution\n",
    "\n",
    "\\begin{align}\n",
    "    M_{\\mathrm{NS}} \\sim \\mathcal{N}(\\mu=1.33, \\sigma = 0.09)\n",
    "\\end{align}\n",
    "\n",
    "and the radius is calculated from a equation of state\n",
    "\n",
    "\\begin{align}\n",
    "    R_{\\mathrm{NS}} = \\mathrm{EOS} \\left( M_{\\mathrm{NS}} \\right)\n",
    "\\end{align}"
   ]
  },
  {
   "cell_type": "code",
   "execution_count": 71,
   "id": "96b8ac92-c7bf-4673-8cac-111574553aa4",
   "metadata": {},
   "outputs": [
    {
     "name": "stderr",
     "output_type": "stream",
     "text": [
      "100%|██████████| 156/156 [01:20<00:00,  1.94it/s]\n"
     ]
    },
    {
     "data": {
      "image/png": "[encoded data removed]",
      "text/plain": [
       "<Figure size 864x720 with 1 Axes>"
      ]
     },
     "metadata": {
      "needs_background": "light"
     },
     "output_type": "display_data"
    }
   ],
   "source": [
    "fig, ax = plt.subplots(figsize=(12,10))\n",
    "plt.plot([0,235], [0,235], ls = '--', color = 'grey',\n",
    "         lw = 1)\n",
    "for i in tqdm(range(len(results))):\n",
    "    d = results[i].split('_')[10]\n",
    "    if 'detections' not in results[i].split('_'):\n",
    "        continue\n",
    "    else:\n",
    "        if detector == results[i].split('_')[12]:\n",
    "            N_T = int(results[i].split('_')[-1].split('.')[0])\n",
    "            df = pd.read_csv(f'Results/{results[i]}')\n",
    "            alphas = df['Alpha']\n",
    "            E_mean = df['Mean energy']\n",
    "        else:\n",
    "            continue\n",
    "        distances = []\n",
    "        for i in range(len(alphas)):\n",
    "            # Sampling neutron star mass\n",
    "            m_ns = np.random.normal(1.33, 0.09)\n",
    "            # Setting the radius\n",
    "            radius = f(find_nearest(xnew, m_ns)[0])\n",
    "            # Calculating total luminosity\n",
    "            L = 3.6e53*((m_ns/1.5)**2)*(10/radius)\n",
    "            # Calculating distance squared\n",
    "            D = (L*6.2415e5/(24*np.pi*N_T))*targets*simps(fitting.spectrum_shape(x, alphas[i], E_mean[i])*dtc.efficiency_sigmoid(x, 1, 7, 3.5)*total_cross, x)\n",
    "            distances.append(np.sqrt(D)*3.2408e-22)\n",
    "        plt.boxplot(distances, positions = [int(d)], widths = 3, patch_artist = True,\n",
    "                          boxprops = {'facecolor': sns.color_palette('inferno')[1], \n",
    "                                      'edgecolor': 'black', 'alpha': 0.9},\n",
    "                          whis = (0, 100), medianprops = {'color': 'black',\n",
    "                                                         'linewidth': 1})\n",
    "        \n",
    "plt.xlim(2, 233)\n",
    "plt.ylim(0, 400)\n",
    "plt.xlabel('Real distance [kpc]', fontsize = 20)\n",
    "plt.ylabel(r'Reconstructed distance [kpc]', fontsize = 20)\n",
    "plt.xticks([5+10*i for i in range(23)], [5+10*i for i in range(23)], fontsize = 14)\n",
    "plt.yticks(ax.get_yticks(), fontsize = 14)\n",
    "plt.show()"
   ]
  },
  {
   "cell_type": "code",
   "execution_count": 73,
   "id": "7405dc24-11fc-4c5f-b391-97cc2ebf3144",
   "metadata": {},
   "outputs": [
    {
     "name": "stderr",
     "output_type": "stream",
     "text": [
      "100%|██████████| 156/156 [01:20<00:00,  1.94it/s]\n"
     ]
    },
    {
     "data": {
      "image/png": "[encoded data removed]",
      "text/plain": [
       "<Figure size 864x576 with 1 Axes>"
      ]
     },
     "metadata": {
      "needs_background": "light"
     },
     "output_type": "display_data"
    }
   ],
   "source": [
    "fig, ax = plt.subplots(figsize=(12,8))\n",
    "x_d = np.linspace(2, 235, 10000)\n",
    "plt.plot(x_d, x_d, ls = '--', color = 'grey',\n",
    "         lw = 1)\n",
    "for i in tqdm(range(len(results))):\n",
    "    d = results[i].split('_')[10]\n",
    "    if 'detections' not in results[i].split('_'):\n",
    "        continue\n",
    "    else:\n",
    "        if detector == results[i].split('_')[12]:\n",
    "            N_T = int(results[i].split('_')[-1].split('.')[0])\n",
    "            df = pd.read_csv(f'Results/{results[i]}')\n",
    "            alphas = df['Alpha']\n",
    "            E_mean = df['Mean energy']\n",
    "        else:\n",
    "            continue\n",
    "        distances = []\n",
    "        for i in range(len(alphas)):\n",
    "            # Sampling neutron star mass\n",
    "            m_ns = np.random.normal(1.33, 0.09)\n",
    "            # Setting the radius\n",
    "            radius = f(find_nearest(xnew, m_ns)[0])\n",
    "            # Calculating total luminosity\n",
    "            L = 3.6e53*((m_ns/1.5)**2)*(10/radius)\n",
    "            # Calculating distance squared\n",
    "            D = (L*6.2415e5/(24*np.pi*N_T))*targets*simps(fitting.spectrum_shape(x, alphas[i], E_mean[i])*dtc.efficiency_sigmoid(x, 1, 7, 3.5)*total_cross, x)\n",
    "            distances.append(np.sqrt(D)*3.2408e-22)\n",
    "        plt.boxplot(distances, positions = [int(d)], widths = 3, patch_artist = True,\n",
    "                          boxprops = {'facecolor': sns.color_palette('inferno')[1], \n",
    "                                      'edgecolor': 'black', 'alpha': 0.9},\n",
    "                          whis = (0, 100), medianprops = {'color': 'black',\n",
    "                                                         'linewidth': 1})\n",
    "        \n",
    "plt.xlim(2, 233)\n",
    "plt.ylim(3e0, 5e2)\n",
    "plt.yscale('log')\n",
    "plt.xlabel('Real distance [kpc]', fontsize = 20)\n",
    "plt.ylabel(r'Reconstructed distance [kpc]', fontsize = 20)\n",
    "plt.xticks([5+10*i for i in range(23)], [5+10*i for i in range(23)], fontsize = 14)\n",
    "plt.yticks([3e0, 1e1, 1e2, 5e2], [3e0, 1e1, 1e2, 5e2], fontsize = 14)\n",
    "plt.show()"
   ]
  },
  {
   "cell_type": "code",
   "execution_count": 37,
   "id": "bd637db1-d85d-4200-9fd4-f7cd1e98b99f",
   "metadata": {},
   "outputs": [],
   "source": [
    "def R_th(M):\n",
    "    M_sol = 1.989e30\n",
    "    c = 2.98e8\n",
    "    G = 6.67e-11\n",
    "    return 2.9*M*M_sol*G/c**2\n",
    "\n",
    "def R_sph(M):\n",
    "    M_sol = 1.989e30\n",
    "    return 10.4*((1000/716)**(2/3))*((M*M_sol/M_sol)**(1/3))"
   ]
  },
  {
   "cell_type": "code",
   "execution_count": 34,
   "id": "a0dbf287-a700-4ffc-ba30-c993411af707",
   "metadata": {},
   "outputs": [],
   "source": [
    "M_sol = 1.989e30 # kg\n",
    "M = np.linspace(0, 4, 1000)*M_sol\n",
    "G = 6.67e-11 # m^3 / kg^1 s^2\n",
    "c = 2.98e8 # m/s\n",
    "R_th = 2.9*M*G/c**2\n",
    "R_schw = 2*M*G/c**2\n",
    "R_sph = 10.4*((1000/716)**(2/3))*((M/M_sol)**(1/3))"
   ]
  },
  {
   "cell_type": "code",
   "execution_count": 35,
   "id": "d5e12d37-c76b-403c-be20-34abe34124d8",
   "metadata": {},
   "outputs": [
    {
     "data": {
      "text/plain": [
       "<matplotlib.collections.PolyCollection at 0x7fab0e818f90>"
      ]
     },
     "execution_count": 35,
     "metadata": {},
     "output_type": "execute_result"
    },
    {
     "data": {
      "image/png": "[encoded data removed]",
      "text/plain": [
       "<Figure size 432x288 with 1 Axes>"
      ]
     },
     "metadata": {
      "needs_background": "light"
     },
     "output_type": "display_data"
    }
   ],
   "source": [
    "plt.fill_between(R_th/1000, M/M_sol, 4, color = 'grey', alpha = 0.5)\n",
    "plt.fill_between(R_sph, 0, M/M_sol, color = 'grey', alpha = 0.5)\n",
    "plt.fill_between(R_schw/1000, M/M_sol, 4, color = 'grey', alpha = 0.5)"
   ]
  },
  {
   "cell_type": "code",
   "execution_count": 76,
   "id": "9e3361ab-92eb-4150-9ddd-fb67c557adbb",
   "metadata": {},
   "outputs": [
    {
     "name": "stderr",
     "output_type": "stream",
     "text": [
      "100%|██████████| 156/156 [00:49<00:00,  3.13it/s]\n"
     ]
    },
    {
     "data": {
      "image/png": "[encoded data removed]",
      "text/plain": [
       "<Figure size 864x576 with 1 Axes>"
      ]
     },
     "metadata": {},
     "output_type": "display_data"
    }
   ],
   "source": [
    "fig, ax = plt.subplots(figsize=(12,8))\n",
    "x_d = np.linspace(2, 235, 10000)\n",
    "plt.plot(x_d, x_d, ls = '--', color = 'grey',\n",
    "         lw = 1)\n",
    "for i in tqdm(range(len(results))):\n",
    "    d = results[i].split('_')[10]\n",
    "    if 'detections' not in results[i].split('_'):\n",
    "        continue\n",
    "    else:\n",
    "        if detector == results[i].split('_')[12]:\n",
    "            N_T = int(results[i].split('_')[-1].split('.')[0])\n",
    "            df = pd.read_csv(f'Results/{results[i]}')\n",
    "            alphas = df['Alpha']\n",
    "            E_mean = df['Mean energy']\n",
    "        else:\n",
    "            continue\n",
    "        distances = []\n",
    "        for i in range(len(alphas)):\n",
    "            # Sampling neutron star mass\n",
    "            m_ns = np.random.normal(1.33, 0.09)\n",
    "            # Setting the radius\n",
    "            radius = np.random.uniform(R_th(m_ns)/1000, R_sph(m_ns))\n",
    "            # Calculating total luminosity\n",
    "            L = 3.6e53*((m_ns/1.5)**2)*(10/radius)\n",
    "            # Calculating distance squared\n",
    "            D = (L*6.2415e5/(24*np.pi*N_T))*targets*simps(fitting.spectrum_shape(x, alphas[i], E_mean[i])*dtc.efficiency_sigmoid(x, 1, 7, 3.5)*total_cross, x)\n",
    "            distances.append(np.sqrt(D)*3.2408e-22)\n",
    "        plt.boxplot(distances, positions = [int(d)], widths = 3, patch_artist = True,\n",
    "                          boxprops = {'facecolor': sns.color_palette('inferno')[4], \n",
    "                                      'edgecolor': 'black', 'alpha': 0.9},\n",
    "                          whis = (0, 100), medianprops = {'color': 'black',\n",
    "                                                         'linewidth': 1})\n",
    "        \n",
    "plt.xlim(2, 188)\n",
    "plt.ylim(3e0, 5e2)\n",
    "plt.yscale('log')\n",
    "plt.xlabel('Real distance [kpc]', fontsize = 20)\n",
    "plt.ylabel(r'Reconstructed distance [kpc]', fontsize = 20)\n",
    "plt.xticks([5+10*i for i in range(19)], [5+10*i for i in range(19)], fontsize = 16)\n",
    "plt.yticks([3e0, 1e1, 1e2, 5e2], [3e0, 1e1, 1e2, 5e2], fontsize = 16)\n",
    "plt.title(f'Reconstructed CCSN distance as a function of its true distance - {detector}', fontsize = 24,\n",
    "         pad = 24)\n",
    "fig.text(0.5, 0.89, 'Assuming uniform distribution for neutron star radii', ha = 'center', fontsize = 16)\n",
    "fig.patch.set_alpha(1)\n",
    "plt.savefig(f'Plots/Reconstructed_distance_model_independent_{detector}.svg', dpi = 300,\n",
    "            bbox_inches = 'tight')\n",
    "plt.show()"
   ]
  },
  {
   "cell_type": "code",
   "execution_count": null,
   "id": "2df3ac21-0ef4-41f3-8be2-580984060eea",
   "metadata": {},
   "outputs": [],
   "source": []
  }
 ],
 "metadata": {
  "kernelspec": {
   "display_name": "Python 3 (ipykernel)",
   "language": "python",
   "name": "python3"
  },
  "language_info": {
   "codemirror_mode": {
    "name": "ipython",
    "version": 3
   },
   "file_extension": ".py",
   "mimetype": "text/x-python",
   "name": "python",
   "nbconvert_exporter": "python",
   "pygments_lexer": "ipython3",
   "version": "3.7.11"
  }
 },
 "nbformat": 4,
 "nbformat_minor": 5
}
