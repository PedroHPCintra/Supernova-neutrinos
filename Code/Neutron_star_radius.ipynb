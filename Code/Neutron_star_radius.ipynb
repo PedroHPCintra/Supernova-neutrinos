{
 "cells": [
  {
   "cell_type": "code",
   "execution_count": 1,
   "id": "3e7e03c8-621d-42b4-9253-1e0aa6783e77",
   "metadata": {
    "tags": []
   },
   "outputs": [
    {
     "name": "stderr",
     "output_type": "stream",
     "text": [
      "\n",
      "Bad key text.latex.preview in file /home/pedroc/anaconda3/lib/python3.7/site-packages/matplotlib/mpl-data/stylelib/_classic_test.mplstyle, line 123 ('text.latex.preview : False')\n",
      "You probably need to get an updated matplotlibrc file from\n",
      "https://github.com/matplotlib/matplotlib/blob/v3.5.1/matplotlibrc.template\n",
      "or from the matplotlib source distribution\n",
      "\n",
      "Bad key mathtext.fallback_to_cm in file /home/pedroc/anaconda3/lib/python3.7/site-packages/matplotlib/mpl-data/stylelib/_classic_test.mplstyle, line 155 ('mathtext.fallback_to_cm : True  # When True, use symbols from the Computer Modern')\n",
      "You probably need to get an updated matplotlibrc file from\n",
      "https://github.com/matplotlib/matplotlib/blob/v3.5.1/matplotlibrc.template\n",
      "or from the matplotlib source distribution\n",
      "\n",
      "Bad key savefig.jpeg_quality in file /home/pedroc/anaconda3/lib/python3.7/site-packages/matplotlib/mpl-data/stylelib/_classic_test.mplstyle, line 418 ('savefig.jpeg_quality: 95       # when a jpeg is saved, the default quality parameter.')\n",
      "You probably need to get an updated matplotlibrc file from\n",
      "https://github.com/matplotlib/matplotlib/blob/v3.5.1/matplotlibrc.template\n",
      "or from the matplotlib source distribution\n",
      "\n",
      "Bad key keymap.all_axes in file /home/pedroc/anaconda3/lib/python3.7/site-packages/matplotlib/mpl-data/stylelib/_classic_test.mplstyle, line 466 ('keymap.all_axes : a                 # enable all axes')\n",
      "You probably need to get an updated matplotlibrc file from\n",
      "https://github.com/matplotlib/matplotlib/blob/v3.5.1/matplotlibrc.template\n",
      "or from the matplotlib source distribution\n",
      "\n",
      "Bad key animation.avconv_path in file /home/pedroc/anaconda3/lib/python3.7/site-packages/matplotlib/mpl-data/stylelib/_classic_test.mplstyle, line 477 ('animation.avconv_path: avconv     # Path to avconv binary. Without full path')\n",
      "You probably need to get an updated matplotlibrc file from\n",
      "https://github.com/matplotlib/matplotlib/blob/v3.5.1/matplotlibrc.template\n",
      "or from the matplotlib source distribution\n",
      "\n",
      "Bad key animation.avconv_args in file /home/pedroc/anaconda3/lib/python3.7/site-packages/matplotlib/mpl-data/stylelib/_classic_test.mplstyle, line 479 ('animation.avconv_args:            # Additional arguments to pass to avconv')\n",
      "You probably need to get an updated matplotlibrc file from\n",
      "https://github.com/matplotlib/matplotlib/blob/v3.5.1/matplotlibrc.template\n",
      "or from the matplotlib source distribution\n"
     ]
    }
   ],
   "source": [
    "import warnings\n",
    "warnings.filterwarnings('ignore')\n",
    "import numpy as np\n",
    "import pandas as pd\n",
    "import matplotlib.pyplot as plt\n",
    "import seaborn as sns\n",
    "from scipy.interpolate import interp1d\n",
    "from scipy.optimize import curve_fit\n",
    "from scipy.special import gamma\n",
    "from sklearn.metrics import r2_score\n",
    "from emission import *\n",
    "from detection import *\n",
    "import cross_sections as cs\n",
    "from constants import *\n",
    "from tqdm import tqdm\n",
    "from scipy.integrate import simps"
   ]
  },
  {
   "cell_type": "code",
   "execution_count": 2,
   "id": "dc55c403-0a39-4ab6-8b5e-b0ef8414b04f",
   "metadata": {},
   "outputs": [],
   "source": [
    "plt.rc('text', usetex=True)\n",
    "plt.rc('font', family='serif')"
   ]
  },
  {
   "cell_type": "code",
   "execution_count": 83,
   "id": "2887fc6d-973e-47e5-82f1-e4c913561c58",
   "metadata": {},
   "outputs": [],
   "source": [
    "E = np.linspace(1.804, 100, 1000000) # Neutrino detection energy\n",
    "detector = 'super-k'\n",
    "resolution = 0.05 # Fraction of error in energy reconstruction\n",
    "distance = 1000 # distance in parsecs\n",
    "n_target = (32000000000/18.01528)*6.022e23*2"
   ]
  },
  {
   "cell_type": "code",
   "execution_count": 84,
   "id": "533d7db1-d18d-4e4c-803a-235f4a959394",
   "metadata": {},
   "outputs": [
    {
     "name": "stdout",
     "output_type": "stream",
     "text": [
      "\n",
      "Number of expected neutrinos by flavor at 1000 parsecs\n",
      "\n",
      "electron neutrinos: 150\n",
      "electron antineutrinos: 3238\n",
      "mu/tau (anti)neutrinos: 16\n",
      "\n",
      "Number of expected neutrinos by flavor at 1000 parsecs\n",
      "\n",
      "electron neutrinos: 146\n",
      "electron antineutrinos: 3318\n",
      "mu/tau (anti)neutrinos: 16\n"
     ]
    }
   ],
   "source": [
    "samples_no = energy_sampler(E, 2e53, resolution, 'proportional', detector, 'normal', distance)\n",
    "samples_io = energy_sampler(E, 2e53, resolution, 'proportional', detector, 'inverted', distance)"
   ]
  },
  {
   "cell_type": "code",
   "execution_count": 85,
   "id": "4d0b8022-c34f-470f-8ab8-a51a17538eae",
   "metadata": {},
   "outputs": [
    {
     "data": {
      "image/png": "[encoded data removed]",
      "text/plain": [
       "<Figure size 720x432 with 1 Axes>"
      ]
     },
     "metadata": {
      "needs_background": "light"
     },
     "output_type": "display_data"
    }
   ],
   "source": [
    "fig = plt.figure(figsize=(10,6))\n",
    "plt.hist(samples_no['Total'], bins = [2*i for i in range(50)], histtype = 'step', color = 'black',\n",
    "        lw = 2, label = r'$\\nu_e + \\overline{\\nu}_e + \\nu_x$ (NO)')\n",
    "plt.hist(samples_io['Total'], bins = [2*i for i in range(50)], histtype = 'step', color = 'black',\n",
    "        lw = 2, label = r'$\\nu_e + \\overline{\\nu}_e + \\nu_x$ (IO)', ls = '--')\n",
    "lgd = plt.legend(title = 'Flavors', loc = 'upper right', fontsize = 12)\n",
    "title = lgd.get_title()\n",
    "title.set_fontsize(14)\n",
    "plt.xlabel('Neutrino energy [MeV]', fontsize = 14)\n",
    "plt.ylabel('Events', fontsize = 14)\n",
    "plt.title(f'Detection spectrum {detector} for {int(distance/1000)} Kpc Supernova', fontsize = 18)\n",
    "plt.xlim(0, 70)\n",
    "# plt.savefig(f'detection_spectrum_{detector}_{int(distance/1000)}_kpc.png',\n",
    "#             bbox_inches = 'tight', dpi = 300)\n",
    "plt.show()"
   ]
  },
  {
   "cell_type": "code",
   "execution_count": 86,
   "id": "b3b1103c-8985-4244-8976-daf55b136a71",
   "metadata": {},
   "outputs": [],
   "source": [
    "events_tot_no = len(samples_no['Total'])\n",
    "events_tot_io = len(samples_io['Total'])"
   ]
  },
  {
   "cell_type": "code",
   "execution_count": 87,
   "id": "0c1c23aa-7ab1-40ec-a9b5-9ac7a1256776",
   "metadata": {},
   "outputs": [],
   "source": [
    "bins = np.array([2*(i+1) for i in range(50)])\n",
    "bins_mid = (bins[:-1] + bins[1:])/2"
   ]
  },
  {
   "cell_type": "code",
   "execution_count": 88,
   "id": "8a7dfb0a-df4f-473b-a0f1-9776e25e4253",
   "metadata": {},
   "outputs": [],
   "source": [
    "height_no = []\n",
    "height_io = []\n",
    "for i in range(len(bins)-1):\n",
    "    events_in_bin_no = len(np.where((samples_no['Total'] < bins[i+1]) & (samples_no['Total'] >= bins[i]))[0])\n",
    "    height_no.append(events_in_bin_no)\n",
    "    events_in_bin_io = len(np.where((samples_io['Total'] < bins[i+1]) & (samples_io['Total'] >= bins[i]))[0])\n",
    "    height_io.append(events_in_bin_io)\n",
    "    \n",
    "height_no = np.array(height_no)\n",
    "height_io = np.array(height_io)"
   ]
  },
  {
   "cell_type": "code",
   "execution_count": 89,
   "id": "b714e00d-ceec-44f9-a5f0-e97a46adaf28",
   "metadata": {},
   "outputs": [],
   "source": [
    "height_no_norm = height_no/events_tot_no/2\n",
    "height_io_norm = height_io/events_tot_io/2"
   ]
  },
  {
   "cell_type": "code",
   "execution_count": 90,
   "id": "047f1af6-2ed8-431c-86d6-50c134b15e81",
   "metadata": {},
   "outputs": [],
   "source": [
    "def spectra(x, α, E_mean, E_tot):\n",
    "    A = E_tot*((1+α)**(1+α))/((gamma(1+α))*E_mean**(2+α))\n",
    "    f_nu = A*(x**α)*np.exp(-(α + 1)*x/E_mean)\n",
    "    return f_nu"
   ]
  },
  {
   "cell_type": "code",
   "execution_count": 91,
   "id": "a4acf506-48a9-4c51-a378-1d589818558e",
   "metadata": {},
   "outputs": [],
   "source": [
    "def detection_fit(x, alpha, E_mean, E_tot):\n",
    "    cross_oxygen = cs.cross_section_nu_e_oxygen(x)\n",
    "    cross_oxygen_anti = cs.cross_section_nubar_e_oxygen(x)\n",
    "    cross_scatter = cs.cross_section_NC_nu_e(x, 5, g1_nu_e, g2_nu_e)\n",
    "    cross_scatter_anti = cs.cross_section_NC_nu_e(x, 5, g1_barnu_e, g2_barnu_e)\n",
    "    cross_scatter_x = cs.cross_section_NC_nu_e(x, 5, g1_nu_x, g2_nu_x)\n",
    "    cross_scatter_anti_x = cs.cross_section_NC_nu_e(x, 5, g1_barnu_x, g2_barnu_x)\n",
    "    cross_ivb = cs.cross_section_CC_nu_proton(x)\n",
    "    cross_argon = cs.cross_section_nu_e_argon(x)\n",
    "    cross_argon_anti = cs.cross_section_nubar_e_argon(x)\n",
    "    # Number of target particles\n",
    "    # Total cross section\n",
    "    total_cross = cross_oxygen + cross_scatter + cross_scatter_x + cross_scatter_anti_x + cross_oxygen_anti + cross_scatter_anti + cross_ivb\n",
    "    # Detector efficiency\n",
    "    eff = efficiency_sigmoid(x, 1, 7, 3.5)\n",
    "    # Normalization\n",
    "    n_target = (32000000000/18.01528)*6.022e23*2\n",
    "    distance_cm = distance*3.086e18\n",
    "    A = n_target/(4 * np.pi * distance_cm**2)\n",
    "    # Emission spectrum\n",
    "    f_nu = spectra(x, alpha, E_mean, E_tot)\n",
    "    f = A*f_nu*total_cross*eff\n",
    "    return f\n",
    "\n",
    "def detection_fit_2_params(x, alpha, E_mean):\n",
    "    cross_oxygen = cs.cross_section_nu_e_oxygen(x)\n",
    "    cross_oxygen_anti = cs.cross_section_nubar_e_oxygen(x)\n",
    "    cross_scatter = cs.cross_section_NC_nu_e(x, 5, g1_nu_e, g2_nu_e)\n",
    "    cross_scatter_anti = cs.cross_section_NC_nu_e(x, 5, g1_barnu_e, g2_barnu_e)\n",
    "    cross_scatter_x = cs.cross_section_NC_nu_e(x, 5, g1_nu_x, g2_nu_x)\n",
    "    cross_scatter_anti_x = cs.cross_section_NC_nu_e(x, 5, g1_barnu_x, g2_barnu_x)\n",
    "    cross_ivb = cs.cross_section_CC_nu_proton(x)\n",
    "    cross_argon = cs.cross_section_nu_e_argon(x)\n",
    "    cross_argon_anti = cs.cross_section_nubar_e_argon(x)\n",
    "    # Number of target particles\n",
    "    # Total cross section\n",
    "    total_cross = cross_oxygen + cross_scatter + cross_scatter_x + cross_scatter_anti_x + cross_oxygen_anti + cross_scatter_anti + cross_ivb\n",
    "    # Detector efficiency\n",
    "    eff = efficiency_sigmoid(x, 1, 7, 3.5)\n",
    "    # Normalization\n",
    "    n_target = (32000000000/18.01528)*6.022e23*2\n",
    "    distance_cm = distance*3.086e18\n",
    "    A = n_target/(4 * np.pi * distance_cm**2)\n",
    "    # Emission spectrum\n",
    "    A_spec = ((1+alpha)**(1+alpha))/((gamma(1+alpha))*E_mean**(2+alpha))\n",
    "    f_nu = A_spec*(x**α)*np.exp(-(α + 1)*x/E_mean)\n",
    "    f = A*f_nu*total_cross*eff\n",
    "    return f/simps(f, x)"
   ]
  },
  {
   "cell_type": "code",
   "execution_count": 92,
   "id": "224e54ad-5687-4429-8f2d-7c87b61db823",
   "metadata": {},
   "outputs": [],
   "source": [
    "def integrand(x, alpha, E_mean):\n",
    "    cross_oxygen = cs.cross_section_nu_e_oxygen(x)\n",
    "    cross_oxygen_anti = cs.cross_section_nubar_e_oxygen(x)\n",
    "    cross_scatter = cs.cross_section_NC_nu_e(x, 5, g1_nu_e, g2_nu_e)\n",
    "    cross_scatter_anti = cs.cross_section_NC_nu_e(x, 5, g1_barnu_e, g2_barnu_e)\n",
    "    cross_scatter_x = cs.cross_section_NC_nu_e(x, 5, g1_nu_x, g2_nu_x)\n",
    "    cross_scatter_anti_x = cs.cross_section_NC_nu_e(x, 5, g1_barnu_x, g2_barnu_x)\n",
    "    cross_ivb = cs.cross_section_CC_nu_proton(x)\n",
    "    cross_argon = cs.cross_section_nu_e_argon(x)\n",
    "    cross_argon_anti = cs.cross_section_nubar_e_argon(x)\n",
    "    # Number of target particles\n",
    "    # Total cross section\n",
    "    total_cross = cross_oxygen + cross_scatter + cross_scatter_x + cross_scatter_anti_x + cross_oxygen_anti + cross_scatter_anti + cross_ivb\n",
    "    # Detector efficiency\n",
    "    eff = efficiency_sigmoid(x, 1, 7, 3.5)\n",
    "    # Normalization\n",
    "    # distance_cm = distance*3.09e16\n",
    "    # A = n_target/(4 * np.pi * distance_cm**2)\n",
    "    # Emission spectrum\n",
    "    # A = ((1+alpha)**(1+alpha))/((gamma(1+alpha))*E_mean**(2+alpha))\n",
    "    # f_nu = A*(x**α)*np.exp(-(α + 1)*x/E_mean)\n",
    "    spectrum = spectra(x, alpha, E_mean, 1)\n",
    "    f = spectrum*total_cross*eff\n",
    "    return f"
   ]
  },
  {
   "cell_type": "code",
   "execution_count": 93,
   "id": "9cd74002-8841-473c-acd2-d3bbf9363dc5",
   "metadata": {},
   "outputs": [],
   "source": [
    "def rejABC(model, x, y, prior_params, eps, n_sample):\n",
    "    # prior_params: list of ranges for uniform priors;\n",
    "    # eps: tolerance;\n",
    "    # n_sample: number of samples to be sorted\n",
    "    \n",
    "    n_mp = len(prior_params) # Number of model parameters to be fit\n",
    "    \n",
    "    p = np.zeros(n_mp+1, dtype=np.float64) # Array of parameters\n",
    "    \n",
    "    post = np.zeros((1,n_mp+1)) # Array to build posterior distribution\n",
    "    \n",
    "    for i in tqdm(range(n_sample)):\n",
    "        \n",
    "        # Sort parameters according to given priors\n",
    "        for j in range(n_mp):\n",
    "        \n",
    "            p[j] = np.random.uniform(prior_params[j,0], prior_params[j,1])\n",
    "        \n",
    "        d = np.sqrt(np.sum(((y-model(x, *p[:-1])))**2))/len(x)\n",
    "        p[-1] = d # Model-data distance\n",
    "        \n",
    "        # Check parameters and add sample to posterior distribution\n",
    "        if (d < eps):\n",
    "        \n",
    "            post = np.concatenate((post, p.reshape((1,n_mp+1)))).reshape(len(post)+1, n_mp+1)\n",
    "    \n",
    "    return post[1:]"
   ]
  },
  {
   "cell_type": "code",
   "execution_count": 94,
   "id": "08ba0ea8-73db-467c-899d-eccaeb54e6b3",
   "metadata": {},
   "outputs": [],
   "source": [
    "def sort(n, hist, bins): \n",
    "    # n: how many numbers to sort;\n",
    "    # hist: l-sized array with height of columns of normalized histogram;\n",
    "    # bins: (l+1)-sized array with values of bins divisions\n",
    "    \n",
    "    d = bins[1] - bins[0] # Bin size\n",
    "    \n",
    "    dat = [] # List of sorted random numbers\n",
    "    \n",
    "    for i in range(n):\n",
    "        \n",
    "        x = np.random.uniform(0., 1.)\n",
    "        \n",
    "        # Conversion of 0-1 random number to number sorted according to the given histogram\n",
    "        for j in range(len(hist)):\n",
    "            \n",
    "            if (x < np.sum(hist[:j+1])*d):\n",
    "                \n",
    "                dat.append(np.random.uniform(bins[j], bins[j+1]))\n",
    "                break\n",
    "    \n",
    "    return np.array(dat) # Converts list of sorted random numbers to numpy array"
   ]
  },
  {
   "cell_type": "code",
   "execution_count": 95,
   "id": "40cc0225-201a-48db-97c6-3b907d9162d8",
   "metadata": {},
   "outputs": [],
   "source": [
    "def smcABC(model, x, y, hist, bins, n_bins, p_std, eps, n_sample, n_max):\n",
    "    # model: function to be fit; \n",
    "    # hist+bins: past posterior for new prior\n",
    "    # n_bins: number of bins to be used to make new prior from last posterior\n",
    "    # p_std: standard deviations of last posterior, to add noise to new posterior\n",
    "    # eps: tolerance;\n",
    "    # n_sample: number of samples to be sorted\n",
    "    \n",
    "    n_mp = len(hist) # Number of model parameters to be fit\n",
    "    \n",
    "    p = np.zeros(n_mp+1, dtype=np.float64) # Array of parameters\n",
    "    \n",
    "    post = np.zeros((1,n_mp+1)) # Array to build posterior distribution\n",
    "    \n",
    "    for i in range(n_sample):\n",
    "        \n",
    "        # Sort parameters according to given priors\n",
    "        for j in range(n_mp):\n",
    "        \n",
    "            # p[j] = np.random.uniform(prior_params[j,0], prior_params[j,1])\n",
    "            p[j] = sort(1, hist[j], bins[j]) + np.random.normal(scale=p_std[j]/n_bins)\n",
    "        \n",
    "        d = np.sqrt(np.sum(((y-model(x, *p[:-1])))**2))/len(x)\n",
    "        p[-1] = d # Model-data distance\n",
    "        \n",
    "        # Check parameters and add sample to posterior distribution\n",
    "        if (d < eps):\n",
    "        \n",
    "            post = np.concatenate((post, p.reshape((1,n_mp+1)))).reshape(len(post)+1, n_mp+1)\n",
    "            \n",
    "        if (len(post) > n_max):\n",
    "            break\n",
    "            \n",
    "    return post[1:]"
   ]
  },
  {
   "cell_type": "code",
   "execution_count": 96,
   "id": "c5c724d9-fdb4-44d2-8571-7ff04cf721af",
   "metadata": {},
   "outputs": [],
   "source": [
    "prior_params = np.array([[0,5],[0,20],[1e53,8e53]], dtype=np.float64)"
   ]
  },
  {
   "cell_type": "code",
   "execution_count": 97,
   "id": "cf74eee1-7e37-462e-840d-4cf1d1fe6c1c",
   "metadata": {},
   "outputs": [
    {
     "name": "stderr",
     "output_type": "stream",
     "text": [
      "100%|██████████| 100000/100000 [01:54<00:00, 874.60it/s]\n"
     ]
    }
   ],
   "source": [
    "eps = 50\n",
    "post = rejABC(detection_fit, bins_mid, height_no, prior_params, eps, 100000)"
   ]
  },
  {
   "cell_type": "code",
   "execution_count": 98,
   "id": "d3672d5c-102d-4b26-88c5-7009d5e0c654",
   "metadata": {},
   "outputs": [
    {
     "data": {
      "image/png": "[encoded data removed]",
      "text/plain": [
       "<Figure size 432x288 with 1 Axes>"
      ]
     },
     "metadata": {
      "needs_background": "light"
     },
     "output_type": "display_data"
    }
   ],
   "source": [
    "plt.hist(post[:,0], bins = 20)\n",
    "plt.show()"
   ]
  },
  {
   "cell_type": "code",
   "execution_count": 99,
   "id": "71ed8760-4783-458d-a1b3-bb68d2b3c07a",
   "metadata": {},
   "outputs": [
    {
     "name": "stderr",
     "output_type": "stream",
     "text": [
      "100%|██████████| 10/10 [1:00:06<00:00, 360.70s/it]\n"
     ]
    }
   ],
   "source": [
    "n_bins = 30\n",
    "repeat = 10\n",
    "tol = [eps]\n",
    "\n",
    "for l in tqdm(range(repeat)):\n",
    "    p = post[np.where(post[:,-1] == np.min(post[:,-1]))[0][0]][:-1]\n",
    "    p_std = np.std(post[:,:-1], axis=0) # Parameter error as standard deviation of posterior\n",
    "    \n",
    "    hist = np.zeros((len(p), n_bins))\n",
    "    bins = np.zeros((len(p), n_bins+1))\n",
    "    \n",
    "    # Define new priors\n",
    "    for k in range(len(hist)):\n",
    "        hist[k], bins[k] = np.histogram(post[:, k], n_bins, density=True)\n",
    "    eps = np.median(post[:,-1])\n",
    "    tol.append(eps)\n",
    "    post = smcABC(detection_fit, bins_mid, height_no, hist, bins, n_bins, p_std, eps, 1000000,\n",
    "                  100000)"
   ]
  },
  {
   "cell_type": "code",
   "execution_count": 100,
   "id": "49b02103-07d0-4039-887e-982d6193bfe1",
   "metadata": {},
   "outputs": [
    {
     "data": {
      "image/png": "[encoded data removed]",
      "text/plain": [
       "<Figure size 432x288 with 1 Axes>"
      ]
     },
     "metadata": {
      "needs_background": "light"
     },
     "output_type": "display_data"
    }
   ],
   "source": [
    "plt.hist(post[:,2], bins = 30)\n",
    "plt.show()"
   ]
  },
  {
   "cell_type": "code",
   "execution_count": 101,
   "id": "d481e66d-405d-43e3-92f3-d7218be648e0",
   "metadata": {},
   "outputs": [
    {
     "data": {
      "text/plain": [
       "<matplotlib.collections.PathCollection at 0x7fddf3eb59d0>"
      ]
     },
     "execution_count": 101,
     "metadata": {},
     "output_type": "execute_result"
    },
    {
     "data": {
      "image/png": "[encoded data removed]",
      "text/plain": [
       "<Figure size 432x288 with 1 Axes>"
      ]
     },
     "metadata": {
      "needs_background": "light"
     },
     "output_type": "display_data"
    }
   ],
   "source": [
    "plt.plot(tol)\n",
    "plt.scatter([i for i in range(len(tol))], tol)\n",
    "# plt.yscale('log')"
   ]
  },
  {
   "cell_type": "code",
   "execution_count": 112,
   "id": "5742e473-ea64-4e18-91a6-715cb0a92341",
   "metadata": {},
   "outputs": [],
   "source": [
    "posterior = pd.DataFrame(post)\n",
    "posterior = posterior.rename(columns={0: r'Pinch $\\alpha$',\n",
    "                                      1: r'Mean energy $\\left \\langle E \\right \\rangle$',\n",
    "                                      2: r'Total luminosity $L$',\n",
    "                                      3: r'Error (RMSE)'})"
   ]
  },
  {
   "cell_type": "code",
   "execution_count": 114,
   "id": "b4adacb9-7cc0-4c89-a586-b5d0bb184824",
   "metadata": {},
   "outputs": [
    {
     "data": {
      "text/html": [
       "<div>\n",
       "<style scoped>\n",
       "    .dataframe tbody tr th:only-of-type {\n",
       "        vertical-align: middle;\n",
       "    }\n",
       "\n",
       "    .dataframe tbody tr th {\n",
       "        vertical-align: top;\n",
       "    }\n",
       "\n",
       "    .dataframe thead th {\n",
       "        text-align: right;\n",
       "    }\n",
       "</style>\n",
       "<table border=\"1\" class=\"dataframe\">\n",
       "  <thead>\n",
       "    <tr style=\"text-align: right;\">\n",
       "      <th></th>\n",
       "      <th>Pinch $\\alpha$</th>\n",
       "      <th>Mean energy $\\left \\langle E \\right \\rangle$</th>\n",
       "      <th>Total luminosity $L$</th>\n",
       "      <th>Error (RMSE)</th>\n",
       "    </tr>\n",
       "  </thead>\n",
       "  <tbody>\n",
       "    <tr>\n",
       "      <th>0</th>\n",
       "      <td>1.567273</td>\n",
       "      <td>10.945075</td>\n",
       "      <td>1.392782e+53</td>\n",
       "      <td>2.524248</td>\n",
       "    </tr>\n",
       "    <tr>\n",
       "      <th>1</th>\n",
       "      <td>2.070774</td>\n",
       "      <td>11.014031</td>\n",
       "      <td>1.345973e+53</td>\n",
       "      <td>2.648938</td>\n",
       "    </tr>\n",
       "    <tr>\n",
       "      <th>2</th>\n",
       "      <td>1.656972</td>\n",
       "      <td>11.439123</td>\n",
       "      <td>1.339543e+53</td>\n",
       "      <td>2.599372</td>\n",
       "    </tr>\n",
       "    <tr>\n",
       "      <th>3</th>\n",
       "      <td>1.521126</td>\n",
       "      <td>10.791473</td>\n",
       "      <td>1.313634e+53</td>\n",
       "      <td>2.770546</td>\n",
       "    </tr>\n",
       "    <tr>\n",
       "      <th>4</th>\n",
       "      <td>1.983551</td>\n",
       "      <td>11.476710</td>\n",
       "      <td>1.392276e+53</td>\n",
       "      <td>2.170958</td>\n",
       "    </tr>\n",
       "  </tbody>\n",
       "</table>\n",
       "</div>"
      ],
      "text/plain": [
       "   Pinch $\\alpha$  Mean energy $\\left \\langle E \\right \\rangle$  \\\n",
       "0        1.567273                                     10.945075   \n",
       "1        2.070774                                     11.014031   \n",
       "2        1.656972                                     11.439123   \n",
       "3        1.521126                                     10.791473   \n",
       "4        1.983551                                     11.476710   \n",
       "\n",
       "   Total luminosity $L$  Error (RMSE)  \n",
       "0          1.392782e+53      2.524248  \n",
       "1          1.345973e+53      2.648938  \n",
       "2          1.339543e+53      2.599372  \n",
       "3          1.313634e+53      2.770546  \n",
       "4          1.392276e+53      2.170958  "
      ]
     },
     "execution_count": 114,
     "metadata": {},
     "output_type": "execute_result"
    }
   ],
   "source": [
    "posterior.head()"
   ]
  },
  {
   "cell_type": "code",
   "execution_count": 111,
   "id": "ae6ba141-cb06-49b6-ad8c-39da22586617",
   "metadata": {},
   "outputs": [
    {
     "data": {
      "text/plain": [
       "<Figure size 720x576 with 0 Axes>"
      ]
     },
     "metadata": {},
     "output_type": "display_data"
    },
    {
     "data": {
      "image/png": "[encoded data removed]",
      "text/plain": [
       "<Figure size 1296x864 with 9 Axes>"
      ]
     },
     "metadata": {
      "needs_background": "light"
     },
     "output_type": "display_data"
    }
   ],
   "source": [
    "fig = plt.figure(figsize=(10,8))\n",
    "g = sns.pairplot(data = posterior.drop(columns=['Error (RMSE)']), kind=\"kde\", height=4, aspect=1.5,\n",
    "                 plot_kws= {'cmap': 'viridis_r',\n",
    "                            'levels': [0.01,0.1,0.2,0.3,0.4,0.5,0.6,0.7,0.8,0.9,1],\n",
    "                            'fill': True},\n",
    "                 diag_kws={'color': (68/255,1/255,184/255), 'alpha': 0.6,\n",
    "                           'linewidth': 2},\n",
    "                 corner = True)\n",
    "\n",
    "g.map_lower(sns.kdeplot, levels=[0.01,0.1,0.2,0.3,0.4,0.5,0.6,0.7,0.8,0.9,1], color=\".2\")\n",
    "g.axes[1,0].set_ylabel(r'Mean energy $\\left \\langle E \\right \\rangle$', fontsize = 18)\n",
    "g.axes[2,0].set_ylabel(r'Total luminosity $L$', fontsize = 18)\n",
    "g.axes[2,0].set_xlabel(r'Pinch $\\alpha$', fontsize = 18)\n",
    "g.axes[2,1].set_xlabel(r'Mean energy $\\left \\langle E \\right \\rangle$', fontsize = 18)\n",
    "# g.axes[0,0].vlines(s_max[0], 0.11825, 0.1198, linestyles = 'dashed', color = 'black')\n",
    "# g.axes[0,0].text(1.001*s_max[0], 0.11980, f'MAP = {s_max[0]:.5f}', fontsize = 12, ha = 'center')\n",
    "# g.axes[0,0].set_ylim(0.11825, 0.12025)\n",
    "# g.axes[2,0].set_xlabel('Growth rate $\\lambda$', fontsize = 18)\n",
    "# g.axes[1,0].set_ylim(14.5, 15)\n",
    "# g.axes[1,1].set_xlabel('Standard deviation $\\sigma$', fontsize = 18)\n",
    "# g.axes[1,1].text(14.9, 14.98, f'MAP: {s_max[1]:.4f}', fontsize = 12)\n",
    "# g.axes[1,1].set_xlim(14.5, 15)\n",
    "# g.axes[1,1].vlines(s_max[1], 14.5, 15, linestyles = 'dashed', color = 'black')\n",
    "\n",
    "plt.tight_layout()\n",
    "# fig.patch.set_alpha(0)\n",
    "# for ax in fig.axes:\n",
    "#     ax.patch.set_alpha(0)\n",
    "# plt.savefig('pairplot.svg', dpi = 300, bbox_inches = 'tight')"
   ]
  },
  {
   "cell_type": "code",
   "execution_count": 104,
   "id": "10c7bf12-41ed-47ef-9df0-b413bf03bb60",
   "metadata": {},
   "outputs": [
    {
     "data": {
      "text/plain": [
       "array([2.60775874e+00, 1.22984887e+01, 1.26809297e+53])"
      ]
     },
     "execution_count": 104,
     "metadata": {},
     "output_type": "execute_result"
    }
   ],
   "source": [
    "p"
   ]
  },
  {
   "cell_type": "code",
   "execution_count": 105,
   "id": "f14347c5-2c19-4293-ae2b-4c7b3dff2fb4",
   "metadata": {},
   "outputs": [
    {
     "data": {
      "text/plain": [
       "<matplotlib.collections.PathCollection at 0x7fddf3ba4350>"
      ]
     },
     "execution_count": 105,
     "metadata": {},
     "output_type": "execute_result"
    },
    {
     "data": {
      "image/png": "[encoded data removed]",
      "text/plain": [
       "<Figure size 432x288 with 1 Axes>"
      ]
     },
     "metadata": {
      "needs_background": "light"
     },
     "output_type": "display_data"
    }
   ],
   "source": [
    "plt.plot(bins_mid, detection_fit(bins_mid, *p), zorder = 0)\n",
    "plt.scatter(bins_mid, height_no, color = 'black', s = 20)"
   ]
  },
  {
   "cell_type": "code",
   "execution_count": null,
   "id": "9f850bea-aad1-4729-85f9-e2d0467b0763",
   "metadata": {
    "tags": []
   },
   "outputs": [],
   "source": [
    "alpha_post = post[:,0]\n",
    "E_mean_post = post[:,1]\n",
    "E = np.linspace(2, 100, 10000)\n",
    "denominator = ((1+alpha_post)**(1+alpha_post))*n_target\n",
    "distance_cm = distance*3.086e18\n",
    "L = []\n",
    "for i in tqdm(range(len(post[:,0]))):\n",
    "    numerator = events_tot_no*(distance_cm**2)*4*np.pi*gamma(1+alpha_post[i])*(E_mean_post[i]**(2+alpha_post[i]))\n",
    "    L.append(numerator/(denominator[i]*simps(integrand(E, alpha_post[i], E_mean_post[i]), E)))\n",
    "    \n",
    "L = np.array(L)"
   ]
  },
  {
   "cell_type": "code",
   "execution_count": null,
   "id": "630652b9-6694-4891-8f6e-80d0f409ad28",
   "metadata": {},
   "outputs": [],
   "source": [
    "plt.hist(L, bins = 30)\n",
    "plt.show()"
   ]
  },
  {
   "cell_type": "code",
   "execution_count": 106,
   "id": "9e104df4-687e-401a-90e2-616c2da212c4",
   "metadata": {},
   "outputs": [],
   "source": [
    "masses = np.random.normal(1.33,0.09,len(post[:,2]))\n",
    "R = 10*3.6e53*((masses/1.5)**2)/post[:,2]"
   ]
  },
  {
   "cell_type": "code",
   "execution_count": 107,
   "id": "6b742551-cfbb-4bc5-835f-a8af7b34e767",
   "metadata": {},
   "outputs": [
    {
     "data": {
      "image/png": "[encoded data removed]",
      "text/plain": [
       "<Figure size 432x288 with 1 Axes>"
      ]
     },
     "metadata": {
      "needs_background": "light"
     },
     "output_type": "display_data"
    }
   ],
   "source": [
    "plt.hist(R, bins = 30)\n",
    "plt.show()"
   ]
  },
  {
   "cell_type": "code",
   "execution_count": 108,
   "id": "98fbed10-f868-4158-83fd-afb8881d492a",
   "metadata": {},
   "outputs": [
    {
     "data": {
      "text/plain": [
       "<AxesSubplot:>"
      ]
     },
     "execution_count": 108,
     "metadata": {},
     "output_type": "execute_result"
    },
    {
     "data": {
      "image/png": "[encoded data removed]",
      "text/plain": [
       "<Figure size 432x288 with 1 Axes>"
      ]
     },
     "metadata": {
      "needs_background": "light"
     },
     "output_type": "display_data"
    }
   ],
   "source": [
    "sns.kdeplot(R, masses, levels = [0.003, 0.05, 0.32, 1], fill = True)"
   ]
  },
  {
   "cell_type": "code",
   "execution_count": null,
   "id": "83b84094-de6f-468b-924b-5fbf1d6c58ae",
   "metadata": {},
   "outputs": [],
   "source": [
    "sns.kdeplot(R, masses, levels = [0.003, 0.05, 0.32, 1], fill = True)\n",
    "plt.xlim(6, 18)\n",
    "plt.ylim(0, 3)"
   ]
  },
  {
   "cell_type": "code",
   "execution_count": null,
   "id": "12193a56-e059-4d56-a040-a2ba8b9ed759",
   "metadata": {},
   "outputs": [],
   "source": []
  }
 ],
 "metadata": {
  "kernelspec": {
   "display_name": "Python 3 (ipykernel)",
   "language": "python",
   "name": "python3"
  },
  "language_info": {
   "codemirror_mode": {
    "name": "ipython",
    "version": 3
   },
   "file_extension": ".py",
   "mimetype": "text/x-python",
   "name": "python",
   "nbconvert_exporter": "python",
   "pygments_lexer": "ipython3",
   "version": "3.7.11"
  }
 },
 "nbformat": 4,
 "nbformat_minor": 5
}
