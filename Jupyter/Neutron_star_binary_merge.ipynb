{
 "cells": [
  {
   "cell_type": "markdown",
   "id": "6c5d44cb-7f67-42d2-b814-accc289af5e6",
   "metadata": {},
   "source": [
    "# Neutron star binary merger neutrino detection rate"
   ]
  },
  {
   "cell_type": "markdown",
   "id": "28397fea-bb0d-42a2-afdc-ddc5ecb69f50",
   "metadata": {
    "tags": []
   },
   "source": [
    "Neutron star binary merger (NSBM) rate: 250 - 2810 Gpc$^3$ yr$^{−1}$ [[1]](https://arxiv.org/abs/2009.12255)\n",
    "\n",
    "NSBM luminosity: $10^{54}$ erg/s [[2]](https://arxiv.org/abs/2209.07544)\n",
    "\n",
    "Galactic NSBM rate: ~$1.5 \\times 10^{-6}$ yr$^{-1}$ [[3]](https://doi.org/10.1046/j.1365-8711.2003.06616.x) or $37_{-11}^{+24}$ Myr$^{-1}$ [[4]](https://arxiv.org/abs/2002.10225)\n",
    "\n",
    "## References\n",
    "\n",
    "1. Pian, E. (2021). Mergers of binary neutron star systems: a multimessenger revolution. Frontiers in Astronomy and Space Sciences, 7, 609460. [https://arxiv.org/abs/2009.12255](https://arxiv.org/abs/2009.12255)\n",
    "\n",
    "2. Sigurðarson, G., Tamborra, I., & Wu, M. R. (2022). Resonant Production of Light Sterile Neutrinos in Compact Binary Merger Remnants. arXiv preprint. [https://arxiv.org/abs/2209.07544](https://arxiv.org/abs/2209.07544)\n",
    "\n",
    "3. Voss, R., & Tauris, T. M. (2003). Galactic distribution of merging neutron stars and black holes–prospects for short gamma-ray burst progenitors and LIGO/VIRGO. Monthly Notices of the Royal Astronomical Society, 342(4), 1169-1184. [https://doi.org/10.1046/j.1365-8711.2003.06616.x](https://doi.org/10.1046/j.1365-8711.2003.06616.x)\n",
    "\n",
    "4. Pol, N., McLaughlin, M., & Lorimer, D. (2020). An updated galactic double neutron star merger rate based on radio pulsar populations. arXiv preprint. [https://arxiv.org/abs/2002.10225](https://arxiv.org/abs/2002.10225)"
   ]
  },
  {
   "cell_type": "markdown",
   "id": "93dfd73e-877e-4da5-ac6b-7e8ed2ceb0c7",
   "metadata": {},
   "source": [
    "## Volume necessary to achieve 1 NSBM per year\n",
    "\n",
    "Assuming the lower limit for the occurrence rate\n",
    "\n",
    "\\begin{align}\n",
    "    & 1\\mathrm{Gpc}^3 \\rightarrow 250 \\\\\n",
    "    & 40 \\mathrm{Mpc}^3 \\rightarrow 1\n",
    "\\end{align}\n",
    "\n",
    "Therefore the detector need to observe neutrinos up to 3.42 Mpc away. The total number of detected neutrinos is given by\n",
    "\n",
    "$$ N_\\nu \\approx \\frac{N_T L}{4 \\pi D^2 \\left \\langle E \\right \\rangle} \\left \\langle \\sigma \\right \\rangle \\left \\langle \\varepsilon \\right \\rangle \\Rightarrow N_T = \\frac{4 N_\\nu \\pi D^2 \\left \\langle E \\right \\rangle}{L \\left \\langle \\sigma \\right \\rangle \\left \\langle \\varepsilon \\right \\rangle}$$\n",
    "\n",
    "Since the luminosity of a NSBM is around $10^{54}$ ergs/s and the event lasts for 100 ms, we get a luminosity of $10^{53}$ ergs, or $6.24 \\times 10^{58}$ MeV. Assuming an average neutrino energy between 10 to 25 MeV, a detection efficiency around 90% and an average cross section of $\\approx 10^{-42}$ cm$^2$, we obtain, requiring at least 100 detected events:\n",
    "\n",
    "$$ N_T = (2.49 - 6.23) \\times 10^{37}$$\n",
    "\n",
    "Considering a water cherenkov detector, the necessary water mass in kton is\n",
    "\n",
    "$$ N_T = 2A\\frac{M}{M_{\\mathrm{mol}}} \\Rightarrow M = \\frac{N_T M_{\\mathrm{mol}}}{2A}$$\n",
    "\n",
    "Performing the substitutions $M = 372.4 - 931.9$ Mtons. This mass is between 1724 to 4314 times bigger than Hyper-Kamiokande's fiducial mass."
   ]
  },
  {
   "cell_type": "code",
   "execution_count": null,
   "id": "1d2c900c-d1a1-4520-83d3-55ae840f9b14",
   "metadata": {},
   "outputs": [],
   "source": []
  }
 ],
 "metadata": {
  "kernelspec": {
   "display_name": "Python 3",
   "language": "python",
   "name": "python3"
  },
  "language_info": {
   "codemirror_mode": {
    "name": "ipython",
    "version": 3
   },
   "file_extension": ".py",
   "mimetype": "text/x-python",
   "name": "python",
   "nbconvert_exporter": "python",
   "pygments_lexer": "ipython3",
   "version": "3.7.11"
  }
 },
 "nbformat": 4,
 "nbformat_minor": 5
}
